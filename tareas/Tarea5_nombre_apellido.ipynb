{
 "cells": [
  {
   "cell_type": "markdown",
   "id": "7fe113f0-8f4c-49af-a3b8-1857f4f267f1",
   "metadata": {},
   "source": [
    "# Tarea 5:\n",
    "\n",
    "## Comparación de Algoritmos de Clasificación"
   ]
  },
  {
   "cell_type": "code",
   "execution_count": null,
   "id": "26781dae-4208-406a-ad31-1c7249db3e13",
   "metadata": {},
   "outputs": [],
   "source": []
  },
  {
   "cell_type": "markdown",
   "id": "bf324a04-8881-4790-8287-4b0ad93db813",
   "metadata": {},
   "source": [
    "En está tarea van a evaluar (comparar) los diferentes algoritmos de claificación vistos en clase sobre un conjunto de datos sobre Predicción de Aprobación de Créditos. En el directorio de datos del repositorio se encuentran dos archivos uno para entrenar `PrediccionCreditos_train.csv`, y otro para probar `PrediccionCreditos_test.csv`. \n",
    "\n",
    "La columna objetivo es `Loan_Status`.\n",
    "\n",
    "Deberan hacer:\n",
    "1. Análisis Exploratorio de Datos.\n",
    "2. Ingeniería de Atributos.\n",
    "3. Y para cada algoritmo de clasificación ajustar los parámetros que produzcan el mejor modelo.\n",
    "   \n",
    "Podrán usar como base el notebook `19-ComparacionClasificadores.ipynb`.\n",
    "\n",
    "Fecha de entrega: jueves 10 de Octubre (antes de la hora de clase)"
   ]
  },
  {
   "cell_type": "code",
   "execution_count": null,
   "id": "a5960022-2f35-47ff-b487-b5452aa452b5",
   "metadata": {},
   "outputs": [],
   "source": []
  }
 ],
 "metadata": {
  "kernelspec": {
   "display_name": "Python 3 (ipykernel)",
   "language": "python",
   "name": "python3"
  },
  "language_info": {
   "codemirror_mode": {
    "name": "ipython",
    "version": 3
   },
   "file_extension": ".py",
   "mimetype": "text/x-python",
   "name": "python",
   "nbconvert_exporter": "python",
   "pygments_lexer": "ipython3",
   "version": "3.11.10"
  }
 },
 "nbformat": 4,
 "nbformat_minor": 5
}
