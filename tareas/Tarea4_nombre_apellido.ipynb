{
 "cells": [
  {
   "cell_type": "markdown",
   "id": "7fe113f0-8f4c-49af-a3b8-1857f4f267f1",
   "metadata": {},
   "source": [
    "# Tarea 4:\n",
    "\n",
    "## Clasificador Bayesiano Ingenuo"
   ]
  },
  {
   "cell_type": "markdown",
   "id": "bf324a04-8881-4790-8287-4b0ad93db813",
   "metadata": {},
   "source": [
    "Realizar clasificación usando un clasificadore bayesiano ingenuo (Naive Bayes), sobre los datos del archivo `seeds_dataset.csv`, que se encuentra en el directorio de datos del repositorio. La columna objetivo es `clase`\n",
    "\n",
    "Fecha de entrega: martes 16 de Julio (antes de la hora de clase)"
   ]
  },
  {
   "cell_type": "markdown",
   "id": "45ceefc6-81f9-41cb-840b-2ec3f4cb94eb",
   "metadata": {},
   "source": [
    "### Información sobre el conjuto de datos"
   ]
  },
  {
   "cell_type": "markdown",
   "id": "fc9a5d6b-0a7d-491f-90bf-26ca5284a8c9",
   "metadata": {},
   "source": [
    "Los nombres de los atributos son:\n",
    "\n",
    "- area: área A,\n",
    "- perimetro: perímetro P,\n",
    "- compacidad: compacidad C = 4piA/P^2,\n",
    "- largo_grano: longitud del grano,\n",
    "- ancho_grano: ancho del grano,\n",
    "- coeficiente_asimetría: coeficiente de asimetría\n",
    "- largo_surco: longitud del surco del grano.\n",
    "- clase: Tipo de semillas [Kama, rosa, canadiense](En el mismo orden)"
   ]
  },
  {
   "cell_type": "markdown",
   "id": "ac5499d5-a157-415a-9c38-b57faa5e0c04",
   "metadata": {},
   "source": [
    "### Importar las librerías a utilizar"
   ]
  },
  {
   "cell_type": "code",
   "execution_count": 1,
   "id": "bbbffc3b-0390-4ae7-bf6c-f8d828b15585",
   "metadata": {},
   "outputs": [],
   "source": [
    "import numpy as np\n",
    "from sklearn.naive_bayes import GaussianNB\n",
    "from sklearn.model_selection import train_test_split\n",
    "from sklearn.metrics import accuracy_score\n",
    "import pandas as pd\n",
    "import seaborn as sns\n",
    "import matplotlib.pyplot as plt"
   ]
  },
  {
   "cell_type": "markdown",
   "id": "791c2567-4cf4-4f91-bd5e-8e32a1bf1f17",
   "metadata": {},
   "source": [
    "### Leer el conjunto de datos"
   ]
  },
  {
   "cell_type": "code",
   "execution_count": 2,
   "id": "035a416b-67ba-4687-ad15-11f489a369f6",
   "metadata": {},
   "outputs": [],
   "source": [
    "semillas = '####'"
   ]
  },
  {
   "cell_type": "markdown",
   "id": "6564c75d-a047-42ca-b76b-ba6a367a8dd5",
   "metadata": {},
   "source": [
    "### Separar los atributos y el objetivo. Recuerde que el objetivo es la columna `clase`"
   ]
  },
  {
   "cell_type": "code",
   "execution_count": null,
   "id": "54a93726-6cfc-4175-a12f-ca892a1e0307",
   "metadata": {},
   "outputs": [],
   "source": [
    "X = '####'\n",
    "y = '####'"
   ]
  },
  {
   "cell_type": "markdown",
   "id": "d6c0993d-3be2-4e23-b2cd-04c0c6196217",
   "metadata": {},
   "source": [
    "### Genere un diagrama `pairplot` para visualizar la relación entre todos los atributos."
   ]
  },
  {
   "cell_type": "code",
   "execution_count": null,
   "id": "f495331d-31e8-403f-b17d-4e57cdd3055d",
   "metadata": {},
   "outputs": [],
   "source": [
    "'####'"
   ]
  },
  {
   "cell_type": "markdown",
   "id": "e3a96e87-499d-4e8b-87b0-244a06558407",
   "metadata": {},
   "source": [
    "### Elija sólo dos atributos, `compacidad` y `largo_surco`. Para realizar la clasificación."
   ]
  },
  {
   "cell_type": "code",
   "execution_count": null,
   "id": "5cdb02f5-25db-4cbe-bd4b-ade7eb43bb89",
   "metadata": {},
   "outputs": [],
   "source": [
    "X_subconjunto = '####'"
   ]
  },
  {
   "cell_type": "markdown",
   "id": "e5faa7bb-4d61-42a3-867a-b330ebbc5d18",
   "metadata": {},
   "source": [
    "### Genere un diagrama `pairplot` para visualizar la relación entre estos atributos."
   ]
  },
  {
   "cell_type": "code",
   "execution_count": null,
   "id": "faa7f0d1-e2c4-4df9-8ba0-83b72aa880e1",
   "metadata": {},
   "outputs": [],
   "source": [
    "'####'"
   ]
  },
  {
   "cell_type": "markdown",
   "id": "6b3f147a-879a-4fec-a31b-0020f5e1afe4",
   "metadata": {},
   "source": [
    "### Dividir el conjunto de datos en uno de entrenamiento y uno de prueba. Fijar el tamaño del conjunto de prueba en 30% y la semilla del generador de números aleatorios en 18."
   ]
  },
  {
   "cell_type": "code",
   "execution_count": 6,
   "id": "7082a314-622d-435c-9057-377c2c998d9e",
   "metadata": {},
   "outputs": [
    {
     "name": "stdout",
     "output_type": "stream",
     "text": [
      "Forma del conjunto de entrenamiento: ####\n",
      "Forma del conjunto de prueba: ####\n"
     ]
    }
   ],
   "source": [
    "entrenamiento_x, prueba_x , entrenamiento_y, prueba_y  = \"####\"\n",
    "forma_entrenamiento = \"####\"\n",
    "forma_prueba = \"####\"\n",
    "\n",
    "print(f\"Forma del conjunto de entrenamiento: {forma_entrenamiento}\")\n",
    "print(f\"Forma del conjunto de prueba: {forma_prueba}\")"
   ]
  },
  {
   "cell_type": "markdown",
   "id": "8d9f76f5-51db-4088-8a3c-42887d1229d2",
   "metadata": {},
   "source": [
    "### Instanciar el modelo GaussianNB y entrenarlo con los datos de entrenamiento"
   ]
  },
  {
   "cell_type": "code",
   "execution_count": null,
   "id": "eed19ff2-4a7a-4399-9dfd-d5a06ebc4508",
   "metadata": {},
   "outputs": [],
   "source": [
    "naiveBayes = '####'\n",
    "naiveBayes.'####'"
   ]
  },
  {
   "cell_type": "markdown",
   "id": "3ab3b022-33db-4ed9-bd96-34b7d494d551",
   "metadata": {},
   "source": [
    "### Generar las predicciones sobre el conjunto de prueba"
   ]
  },
  {
   "cell_type": "code",
   "execution_count": null,
   "id": "42a0c3c7-0cec-42fd-a014-29e4d3f5c5c6",
   "metadata": {},
   "outputs": [],
   "source": [
    "predicciones = '####'"
   ]
  },
  {
   "cell_type": "markdown",
   "id": "dfd3568b-1051-40a7-b516-c5ac0f0f541e",
   "metadata": {},
   "source": [
    "### Calcular la exactitud del modelo sobre los datos de prueba"
   ]
  },
  {
   "cell_type": "code",
   "execution_count": null,
   "id": "bae0f313-fc79-4a9c-9d91-3b8aaeea7d60",
   "metadata": {},
   "outputs": [],
   "source": [
    "exactitud = '####'\n",
    "print(f'La exactitus es: {}')"
   ]
  },
  {
   "cell_type": "markdown",
   "id": "f085b9de-892c-42d1-8546-53ee3a43a2d0",
   "metadata": {},
   "source": [
    "### Realizar la clasificación pero ahora usando todos los atributos"
   ]
  },
  {
   "cell_type": "code",
   "execution_count": 7,
   "id": "0c39aee6-ed97-4ae8-96cc-3ca8b0692152",
   "metadata": {},
   "outputs": [],
   "source": [
    "# Crear las celdas necesarias para realizar la clasificación con todos los atributos"
   ]
  },
  {
   "cell_type": "code",
   "execution_count": null,
   "id": "5417fb4f-7bb4-42c3-8114-381a39dc3d4f",
   "metadata": {},
   "outputs": [],
   "source": []
  }
 ],
 "metadata": {
  "kernelspec": {
   "display_name": "Python 3 (ipykernel)",
   "language": "python",
   "name": "python3"
  },
  "language_info": {
   "codemirror_mode": {
    "name": "ipython",
    "version": 3
   },
   "file_extension": ".py",
   "mimetype": "text/x-python",
   "name": "python",
   "nbconvert_exporter": "python",
   "pygments_lexer": "ipython3",
   "version": "3.11.9"
  }
 },
 "nbformat": 4,
 "nbformat_minor": 5
}
