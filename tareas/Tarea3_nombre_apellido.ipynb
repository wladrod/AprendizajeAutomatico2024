{
 "cells": [
  {
   "cell_type": "markdown",
   "id": "bd1b5e50",
   "metadata": {},
   "source": [
    "# Tarea 3:\n",
    "\n",
    "## Regresión Lineal"
   ]
  },
  {
   "cell_type": "markdown",
   "id": "8b7efb03",
   "metadata": {},
   "source": [
    "Realizar Regresión Lineal sobre los datos del archivo `auto-mpg.csv`, que se encuentra en el directorio de datos del repositorio. La variable objetivo es `mpg`.\n",
    "\n",
    "Se pide hacer lo siguiente:\n",
    "- Análisis de los datos\n",
    "- Ingeniería de atributos\n",
    "- Dividir el conjunto de datos en uno de entrenamiento y uno de prueba\n",
    "- Entrenar el modelo de regresión lineal\n",
    "- Evaluar el modelo\n",
    "\n",
    "Fecha de entrega: martes 9 de Julio (antes de la hora de clase)"
   ]
  },
  {
   "cell_type": "code",
   "execution_count": null,
   "id": "1718fe5f-d122-4158-b9bf-80ebf21ad494",
   "metadata": {},
   "outputs": [],
   "source": []
  }
 ],
 "metadata": {
  "kernelspec": {
   "display_name": "Python 3 (ipykernel)",
   "language": "python",
   "name": "python3"
  },
  "language_info": {
   "codemirror_mode": {
    "name": "ipython",
    "version": 3
   },
   "file_extension": ".py",
   "mimetype": "text/x-python",
   "name": "python",
   "nbconvert_exporter": "python",
   "pygments_lexer": "ipython3",
   "version": "3.11.9"
  }
 },
 "nbformat": 4,
 "nbformat_minor": 5
}
