{
 "cells": [
  {
   "cell_type": "markdown",
   "id": "7fe113f0-8f4c-49af-a3b8-1857f4f267f1",
   "metadata": {},
   "source": [
    "# Tarea 6:\n",
    "\n",
    "## Redes Neuronales Multicapas"
   ]
  },
  {
   "cell_type": "code",
   "execution_count": null,
   "id": "26781dae-4208-406a-ad31-1c7249db3e13",
   "metadata": {},
   "outputs": [],
   "source": []
  },
  {
   "cell_type": "markdown",
   "id": "bf324a04-8881-4790-8287-4b0ad93db813",
   "metadata": {},
   "source": [
    "En está tarea van a crear una Red Neuronal Multicapa para el conjunto de datos `FashionMIST` usando como base el notebook `20-RedesNeuronales-1.ipynb`. Deben usar una arquitectura diferente a la del notebook.\n",
    "\n",
    "Fecha de entrega: jueves 17 de Octubre (antes de la hora de clase)"
   ]
  },
  {
   "cell_type": "code",
   "execution_count": null,
   "id": "a5960022-2f35-47ff-b487-b5452aa452b5",
   "metadata": {},
   "outputs": [],
   "source": []
  }
 ],
 "metadata": {
  "kernelspec": {
   "display_name": "Python 3 (ipykernel)",
   "language": "python",
   "name": "python3"
  },
  "language_info": {
   "codemirror_mode": {
    "name": "ipython",
    "version": 3
   },
   "file_extension": ".py",
   "mimetype": "text/x-python",
   "name": "python",
   "nbconvert_exporter": "python",
   "pygments_lexer": "ipython3",
   "version": "3.11.10"
  }
 },
 "nbformat": 4,
 "nbformat_minor": 5
}
