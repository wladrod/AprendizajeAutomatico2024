{
 "cells": [
  {
   "cell_type": "markdown",
   "metadata": {},
   "source": [
    "<center>\n",
    "    <h1>Tema 2: Aprendizaje Supervisado</h1>\n",
    "    <br/>\n",
    "    <h1>Regularización 2</h1>\n",
    "    <br/>\n",
    "    <h5>Prof. Wladimir Rodríguez</h5>\n",
    "    <h5>wladimir@ula.ve</h5>\n",
    "    <h5>Departamento de Computación</h5>\n",
    "</center>"
   ]
  },
  {
   "cell_type": "markdown",
   "metadata": {},
   "source": [
    "## Selección del parámetro de penalización l2 (alfa) en la Regresión Lineal Ridge\n",
    "\n",
    "## Validación Cruzada y Selección de Atributos"
   ]
  },
  {
   "cell_type": "markdown",
   "metadata": {},
   "source": [
    "Al igual que el grado polinomial, la penalización L2 es un parámetro \"mágico\" que debemos seleccionar. Podríamos utilizar el enfoque de validación como lo hicimos en anteriormente, pero ese enfoque tiene una gran desventaja: deja menos observaciones disponibles para el entrenamiento. La validación cruzada busca superar este problema utilizando todo el conjunto de entrenamiento de una manera inteligente.\n",
    "\n",
    "<img src=\"../figuras/division_datos.png\" width=\"75%\">\n",
    "\n",
    "Implementaremos una especie de validación cruzada llamada validación cruzada \"k-fold\". El método obtiene su nombre porque implica dividir el conjunto de entrenamiento en k segmentos de tamaño prácticamente igual. Similar al método del conjunto de validación, medimos el error de validación con uno de los segmentos designados como el conjunto de validación. \n",
    "\n",
    "La diferencia principal es que repetimos el proceso k veces de la siguiente manera:\n",
    "\n",
    "- Seleccione el segmento 0 como el conjunto de validación y ajuste un modelo en el resto de los datos y evalúelo con  este conjunto de validación\n",
    "- Seleccione el segmento 1 como el conjunto de validación y ajuste un modelo en el resto de los datos y evalúelo con este conjunto de validación\n",
    "- ...\n",
    "- Seleccione el segmento k-1 como el conjunto de validación y ajuste un modelo en el resto de los datos y evalúelo con este conjunto de validación\n",
    "\n",
    "<img src=\"../figuras/validacion_cruzada.png\" width=\"75%\">\n",
    "\n",
    "Después de este proceso, calculamos el promedio de los k errores de validación, y lo usamos como una estimación del error de generalización. Observe que todas las observaciones se usan tanto para el entrenamiento como para la validación, a medida que iteramos sobre segmentos de datos.\n",
    "\n",
    "Para estimar bien el error de generalización, es crucial mezclar los datos de entrenamiento antes de dividirlos en segmentos. Reservamos el 10% de los datos como conjunto de prueba y barajamos el resto. (Asegúrese de usar random_state = 0 para obtener una respuesta consistente.)"
   ]
  },
  {
   "cell_type": "code",
   "execution_count": 8,
   "metadata": {},
   "outputs": [],
   "source": [
    "import math\n",
    "import random\n",
    "import numpy as np\n",
    "import pandas as pd\n",
    "from sklearn.linear_model import LinearRegression, Ridge, Lasso\n",
    "from sklearn.model_selection import train_test_split\n",
    "from sklearn.utils import shuffle\n",
    "from sklearn.metrics import mean_squared_error\n",
    "from matplotlib import pyplot as plt\n",
    "%matplotlib inline\n",
    "\n",
    "import warnings\n",
    "warnings.filterwarnings('ignore')"
   ]
  },
  {
   "cell_type": "markdown",
   "metadata": {},
   "source": [
    "### Lectura de los datos"
   ]
  },
  {
   "cell_type": "code",
   "execution_count": 9,
   "metadata": {},
   "outputs": [],
   "source": [
    "ventas = pd.read_csv('../datos/kc_house_data.csv')\n",
    "ventas = shuffle(ventas)\n",
    "atributos = list(ventas)\n",
    "atributos.remove('price')\n",
    "atributos.remove('date')\n",
    "atributos.remove('id')"
   ]
  },
  {
   "cell_type": "markdown",
   "metadata": {},
   "source": [
    "### Dividir los datos en dos conjuntos uno de entrenamiento y validación y el otro de prueba"
   ]
  },
  {
   "cell_type": "code",
   "execution_count": 10,
   "metadata": {},
   "outputs": [
    {
     "data": {
      "text/html": [
       "<div>\n",
       "<style scoped>\n",
       "    .dataframe tbody tr th:only-of-type {\n",
       "        vertical-align: middle;\n",
       "    }\n",
       "\n",
       "    .dataframe tbody tr th {\n",
       "        vertical-align: top;\n",
       "    }\n",
       "\n",
       "    .dataframe thead th {\n",
       "        text-align: right;\n",
       "    }\n",
       "</style>\n",
       "<table border=\"1\" class=\"dataframe\">\n",
       "  <thead>\n",
       "    <tr style=\"text-align: right;\">\n",
       "      <th></th>\n",
       "      <th>id</th>\n",
       "      <th>date</th>\n",
       "      <th>price</th>\n",
       "      <th>bedrooms</th>\n",
       "      <th>bathrooms</th>\n",
       "      <th>sqft_living</th>\n",
       "      <th>sqft_lot</th>\n",
       "      <th>floors</th>\n",
       "      <th>waterfront</th>\n",
       "      <th>view</th>\n",
       "      <th>...</th>\n",
       "      <th>grade</th>\n",
       "      <th>sqft_above</th>\n",
       "      <th>sqft_basement</th>\n",
       "      <th>yr_built</th>\n",
       "      <th>yr_renovated</th>\n",
       "      <th>zipcode</th>\n",
       "      <th>lat</th>\n",
       "      <th>long</th>\n",
       "      <th>sqft_living15</th>\n",
       "      <th>sqft_lot15</th>\n",
       "    </tr>\n",
       "  </thead>\n",
       "  <tbody>\n",
       "    <tr>\n",
       "      <th>18088</th>\n",
       "      <td>2896400210</td>\n",
       "      <td>20150508T000000</td>\n",
       "      <td>455000.0</td>\n",
       "      <td>4</td>\n",
       "      <td>2.50</td>\n",
       "      <td>1780</td>\n",
       "      <td>2992</td>\n",
       "      <td>2.0</td>\n",
       "      <td>0</td>\n",
       "      <td>0</td>\n",
       "      <td>...</td>\n",
       "      <td>7</td>\n",
       "      <td>1780</td>\n",
       "      <td>0</td>\n",
       "      <td>2003</td>\n",
       "      <td>0</td>\n",
       "      <td>98072</td>\n",
       "      <td>47.7633</td>\n",
       "      <td>-122.149</td>\n",
       "      <td>1610</td>\n",
       "      <td>2961</td>\n",
       "    </tr>\n",
       "    <tr>\n",
       "      <th>5903</th>\n",
       "      <td>1250200605</td>\n",
       "      <td>20150325T000000</td>\n",
       "      <td>350000.0</td>\n",
       "      <td>3</td>\n",
       "      <td>1.00</td>\n",
       "      <td>1190</td>\n",
       "      <td>3600</td>\n",
       "      <td>1.5</td>\n",
       "      <td>0</td>\n",
       "      <td>0</td>\n",
       "      <td>...</td>\n",
       "      <td>6</td>\n",
       "      <td>1190</td>\n",
       "      <td>0</td>\n",
       "      <td>1904</td>\n",
       "      <td>0</td>\n",
       "      <td>98144</td>\n",
       "      <td>47.5985</td>\n",
       "      <td>-122.298</td>\n",
       "      <td>1680</td>\n",
       "      <td>3600</td>\n",
       "    </tr>\n",
       "    <tr>\n",
       "      <th>12166</th>\n",
       "      <td>1498303855</td>\n",
       "      <td>20150224T000000</td>\n",
       "      <td>718000.0</td>\n",
       "      <td>4</td>\n",
       "      <td>2.75</td>\n",
       "      <td>2930</td>\n",
       "      <td>4408</td>\n",
       "      <td>1.0</td>\n",
       "      <td>0</td>\n",
       "      <td>0</td>\n",
       "      <td>...</td>\n",
       "      <td>8</td>\n",
       "      <td>1660</td>\n",
       "      <td>1270</td>\n",
       "      <td>1939</td>\n",
       "      <td>0</td>\n",
       "      <td>98144</td>\n",
       "      <td>47.5841</td>\n",
       "      <td>-122.295</td>\n",
       "      <td>2200</td>\n",
       "      <td>4000</td>\n",
       "    </tr>\n",
       "    <tr>\n",
       "      <th>13379</th>\n",
       "      <td>2131200925</td>\n",
       "      <td>20140729T000000</td>\n",
       "      <td>331292.0</td>\n",
       "      <td>3</td>\n",
       "      <td>1.75</td>\n",
       "      <td>1660</td>\n",
       "      <td>10000</td>\n",
       "      <td>1.0</td>\n",
       "      <td>0</td>\n",
       "      <td>0</td>\n",
       "      <td>...</td>\n",
       "      <td>7</td>\n",
       "      <td>1660</td>\n",
       "      <td>0</td>\n",
       "      <td>1972</td>\n",
       "      <td>0</td>\n",
       "      <td>98019</td>\n",
       "      <td>47.7410</td>\n",
       "      <td>-121.978</td>\n",
       "      <td>1770</td>\n",
       "      <td>10000</td>\n",
       "    </tr>\n",
       "    <tr>\n",
       "      <th>15584</th>\n",
       "      <td>7129303180</td>\n",
       "      <td>20141002T000000</td>\n",
       "      <td>310000.0</td>\n",
       "      <td>3</td>\n",
       "      <td>2.00</td>\n",
       "      <td>1290</td>\n",
       "      <td>6150</td>\n",
       "      <td>1.0</td>\n",
       "      <td>0</td>\n",
       "      <td>1</td>\n",
       "      <td>...</td>\n",
       "      <td>6</td>\n",
       "      <td>1290</td>\n",
       "      <td>0</td>\n",
       "      <td>1950</td>\n",
       "      <td>0</td>\n",
       "      <td>98118</td>\n",
       "      <td>47.5181</td>\n",
       "      <td>-122.257</td>\n",
       "      <td>1960</td>\n",
       "      <td>6150</td>\n",
       "    </tr>\n",
       "  </tbody>\n",
       "</table>\n",
       "<p>5 rows × 21 columns</p>\n",
       "</div>"
      ],
      "text/plain": [
       "               id             date     price  bedrooms  bathrooms  \\\n",
       "18088  2896400210  20150508T000000  455000.0         4       2.50   \n",
       "5903   1250200605  20150325T000000  350000.0         3       1.00   \n",
       "12166  1498303855  20150224T000000  718000.0         4       2.75   \n",
       "13379  2131200925  20140729T000000  331292.0         3       1.75   \n",
       "15584  7129303180  20141002T000000  310000.0         3       2.00   \n",
       "\n",
       "       sqft_living  sqft_lot  floors  waterfront  view  ...  grade  \\\n",
       "18088         1780      2992     2.0           0     0  ...      7   \n",
       "5903          1190      3600     1.5           0     0  ...      6   \n",
       "12166         2930      4408     1.0           0     0  ...      8   \n",
       "13379         1660     10000     1.0           0     0  ...      7   \n",
       "15584         1290      6150     1.0           0     1  ...      6   \n",
       "\n",
       "       sqft_above  sqft_basement  yr_built  yr_renovated  zipcode      lat  \\\n",
       "18088        1780              0      2003             0    98072  47.7633   \n",
       "5903         1190              0      1904             0    98144  47.5985   \n",
       "12166        1660           1270      1939             0    98144  47.5841   \n",
       "13379        1660              0      1972             0    98019  47.7410   \n",
       "15584        1290              0      1950             0    98118  47.5181   \n",
       "\n",
       "          long  sqft_living15  sqft_lot15  \n",
       "18088 -122.149           1610        2961  \n",
       "5903  -122.298           1680        3600  \n",
       "12166 -122.295           2200        4000  \n",
       "13379 -121.978           1770       10000  \n",
       "15584 -122.257           1960        6150  \n",
       "\n",
       "[5 rows x 21 columns]"
      ]
     },
     "execution_count": 10,
     "metadata": {},
     "output_type": "execute_result"
    }
   ],
   "source": [
    "ventas_entre_val, ventas_prueba = train_test_split(ventas, test_size=0.1, random_state=0)\n",
    "ventas_entre_val.head()"
   ]
  },
  {
   "cell_type": "markdown",
   "metadata": {},
   "source": [
    "### Crear los segmentos del conjunto de entrenamiento y validación \n",
    "Una vez que los datos son barajados, lo dividimos en segmentos iguales. Cada segmento debe recibir `n/k` elementos, donde `n` es el número de observaciones en el conjunto de entrenamiento y `k` es el número de segmentos. Puesto que el segmento 0 comienza en el índice 0 y contiene `n/k` elementos, termina en el índice `(n/k)-1`. El segmento 1 comienza donde el segmento 0 se detuvo, en el índice `(n/k)`. Con `n/k` elementos, el segmento 1 termina en el índice `(n*2/k)-1`. Continuando de esta manera, deducimos que el segmento `i` comienza en el índice `(n*i/k)` y termina en `(n*(i+1)/k)-1`.\n",
    "Con este patrón en mente, escribimos un lazo corto que imprime los índices inicial y final de cada segmento, sólo para asegurarse de que está haciendo las divisiones correctas."
   ]
  },
  {
   "cell_type": "code",
   "execution_count": 11,
   "metadata": {},
   "outputs": [
    {
     "name": "stdout",
     "output_type": "stream",
     "text": [
      "0 (0, 1944)\n",
      "1 (1945, 3889)\n",
      "2 (3890, 5834)\n",
      "3 (5835, 7779)\n",
      "4 (7780, 9724)\n",
      "5 (9725, 11669)\n",
      "6 (11670, 13614)\n",
      "7 (13615, 15559)\n",
      "8 (15560, 17504)\n",
      "9 (17505, 19450)\n"
     ]
    }
   ],
   "source": [
    "n = len(ventas_entre_val)\n",
    "k = 10 # validación cruzada 10-fold\n",
    "\n",
    "for i in range(k):\n",
    "    inicio = (n*i)//k\n",
    "    fin = (n*(i+1))//k-1\n",
    "    print(i, (inicio, fin))"
   ]
  },
  {
   "cell_type": "markdown",
   "metadata": {},
   "source": [
    "### Definiciones de algunas funciones de utilidad"
   ]
  },
  {
   "cell_type": "code",
   "execution_count": 12,
   "metadata": {},
   "outputs": [],
   "source": [
    "def imprimir_coefficientes(modelo):    \n",
    "    # Obtener el grado del polinomio\n",
    "    grado = len(modelo.coef_)\n",
    "\n",
    "    # Obtener los parámetros aprendidos como una lista\n",
    "    w = [modelo.intercept_]\n",
    "    w += (modelo.coef_).tolist()\n",
    "    # Numpy tiene un a función para imprimir polinomios de manera elegante\n",
    "    # (La usaremos, pero necesita los parámetros en orden inverso)\n",
    "    print ('Polinomio de grado ' + str(grado) + ':')\n",
    "    w.reverse()\n",
    "    print (np.poly1d(w))"
   ]
  },
  {
   "cell_type": "markdown",
   "metadata": {},
   "source": [
    "Ahora implementaremos la validación cruzada k-fold. Definiremos una función que calcule los k errores de validación designando cada uno de los k segmentos como el conjunto de validación. Acepta como parámetros (i) `k`, (ii)` penalidad_l2`, (iii) los datos de entrenamiento, (iv) la salida (v) lista de atributos. La función devuelve el error de validación medio usando k segmentos como conjuntos de validación.\n",
    "\n",
    "* Para cada `i` en `[0, 1, ..., k-1]`:\n",
    "   * Calcular los índices de inicio y fin del segmento i y llamar 'inicio' y 'fin'\n",
    "   * Crear el conjunto de validación tomando una porción `(inicio: fin + 1)` de los datos.\n",
    "   * Crear el conjunto entrenamiento fijado añadiendo la rebanada `(fin + 1: n)` al final de la rebanada `(0: inicio)`.\n",
    "   * Entrenar un modelo lineal usando un conjunto de entrenamiento recién formado, con una `penalidad_l2` dada\n",
    "   * Calcule el error de validación usando el conjunto de validación recién creado"
   ]
  },
  {
   "cell_type": "code",
   "execution_count": 29,
   "metadata": {},
   "outputs": [],
   "source": [
    "def validacion_cruzada_k_fold(algoritmo, k, penalidad_l2, data, salida, lista_atributos):\n",
    "    n = len(data)\n",
    "    rss = 0\n",
    "    mse = 0\n",
    "    modelo = algoritmo(alpha=penalidad_l2)\n",
    "    X = data[lista_atributos]\n",
    "    y = data[salida]\n",
    "    for i in range(k):\n",
    "        inicio = (n*i)//k\n",
    "        fin = (n*(i+1))//k-1\n",
    "        X_validacion = X[inicio: fin+1]\n",
    "        y_validacion = y[inicio: fin+1]\n",
    "        X_entrenamiento = X[0:inicio]\n",
    "        y_entrenamiento = y[0:inicio]\n",
    "        ultimo_X = X[fin+1:n]\n",
    "        ultimo_y = y[fin+1:n]\n",
    "        X_entrenamiento = pd.concat([X_entrenamiento, pd.DataFrame(ultimo_X)], ignore_index=True)\n",
    "        y_entrenamiento = pd.concat([y_entrenamiento, ultimo_y], ignore_index=True)\n",
    "        modelo.fit(X_entrenamiento, y_entrenamiento)\n",
    "        mse += mean_squared_error(y_validacion, modelo.predict(X_validacion))\n",
    "    mse = mse / k\n",
    "    return mse"
   ]
  },
  {
   "cell_type": "markdown",
   "metadata": {},
   "source": [
    "Una vez que tenemos una función para calcular el error de validación promedio de un modelo, podemos escribir un lazo para encontrar el modelo que minimiza el error de validación promedio. Escriba un lazo que haga lo siguiente:\n",
    "Estaremos nuevamente ajustando un modelo polinomial de grado 15 usando la entrada `sqft_living`\n",
    "Con la `penalidad_l2` en `[10^1, 10^1.5, 10^2, 10^2.5, ..., 10^7]` (para obtener esto en Python, puede utilizar esta función Numpy: `np.logspace(1, 7, Num = 13)`\n",
    "Ejecutar validación cruzada de 10-fold con `penalidad_l2`\n",
    "Informe qué penalización de L2 produjo el error de validación promedio más bajo."
   ]
  },
  {
   "cell_type": "code",
   "execution_count": 30,
   "metadata": {
    "scrolled": true
   },
   "outputs": [
    {
     "name": "stdout",
     "output_type": "stream",
     "text": [
      "[4.09016309e+10 4.09016262e+10 4.09016232e+10 4.09016224e+10\n",
      " 4.09016242e+10 4.09016291e+10 4.09016376e+10 4.09016503e+10\n",
      " 4.09016681e+10 4.09016917e+10 4.09017221e+10 4.09017604e+10\n",
      " 4.09018077e+10 4.09018656e+10 4.09019355e+10 4.09020193e+10\n",
      " 4.09021190e+10 4.09022369e+10 4.09023755e+10 4.09025377e+10]\n",
      "40901622437.18912\n"
     ]
    }
   ],
   "source": [
    "\n",
    "penalidad_l2 = np.logspace(0, 0.5, num=20)\n",
    "mse = np.empty(len(penalidad_l2))\n",
    "data = ventas_entre_val[atributos]\n",
    "mis_atributos = list(data)\n",
    "data['price'] = ventas_entre_val['price']\n",
    "for i in range(len(penalidad_l2)):\n",
    "    mse[i] = validacion_cruzada_k_fold(Ridge, 10, penalidad_l2[i], data, 'price', atributos)\n",
    "print (mse)\n",
    "print (min(mse))\n",
    "\n",
    "    \n"
   ]
  },
  {
   "cell_type": "markdown",
   "metadata": {},
   "source": [
    "Graficar el error de validación con respecto al valor de la penalización"
   ]
  },
  {
   "cell_type": "code",
   "execution_count": 31,
   "metadata": {},
   "outputs": [
    {
     "name": "stdout",
     "output_type": "stream",
     "text": [
      "alfa =  1.1993539462092342\n",
      "MSE = 40901622437.18912\n"
     ]
    },
    {
     "data": {
      "image/png": "[encoded data removed]",
      "text/plain": [
       "<Figure size 640x480 with 1 Axes>"
      ]
     },
     "metadata": {},
     "output_type": "display_data"
    }
   ],
   "source": [
    "# Graficar los valores de la penalizacion_l2 en el eje xy el error de validación cruzada en el eje y.\n",
    "# El uso de plt.xscale ('log') hará que su trazado sea más intuitivo. \n",
    "alfa = penalidad_l2[np.argmin(mse)]\n",
    "print('alfa = ', alfa )\n",
    "print('MSE =', mse[np.argmin(mse)])\n",
    "plt.plot(penalidad_l2, mse,'.')\n",
    "plt.xscale('log')"
   ]
  },
  {
   "cell_type": "markdown",
   "metadata": {},
   "source": [
    "Una vez que encuentre el mejor valor para la penalización L2 mediante la validación cruzada, es importante reentrenar un modelo final con todos los datos de entrenamiento usando este valor de `penalizacion_l2`. De esta manera, su modelo final será entrenado con el conjunto de datos completo."
   ]
  },
  {
   "cell_type": "code",
   "execution_count": 32,
   "metadata": {},
   "outputs": [
    {
     "name": "stdout",
     "output_type": "stream",
     "text": [
      "MSE = 39040218068.023636\n",
      "Polinomio de grado 18:\n",
      "         18         17             16            15         14\n",
      "-0.3862 x  + 19.52 x  - 2.154e+05 x  + 5.98e+05 x  - 571.9 x \n",
      "         13        12        11         10             9             8\n",
      " + 20.5 x  - 2604 x  + 37.4 x  + 72.22 x  + 9.766e+04 x + 2.739e+04 x\n",
      "              7            6        5          4         3\n",
      " + 5.434e+04 x + 5.54e+05 x + 5937 x + 0.1353 x + 109.6 x\n",
      "              2\n",
      " + 4.034e+04 x - 3.586e+04 x + 5.759e+06\n"
     ]
    }
   ],
   "source": [
    "modeloRidge = Ridge(alpha=alfa)\n",
    "X = ventas_entre_val[atributos]\n",
    "y = ventas_entre_val['price']\n",
    "X_prueba = ventas_prueba[atributos]\n",
    "y_prueba = ventas_prueba['price']\n",
    "modeloRidge.fit(X, y)\n",
    "mse = mean_squared_error(y_prueba, modeloRidge.predict(X_prueba))\n",
    "print('MSE =', mse )\n",
    "imprimir_coefficientes(modeloRidge)"
   ]
  },
  {
   "cell_type": "markdown",
   "metadata": {},
   "source": [
    "### Valor de los coefficientes con respecto al valor de la penalización. Regresión Lineal Ridge\n",
    "\n",
    "Los valores de los coeeficientes tienden a cero a medida que se incrementa el valor de la penalización (alfa)\n",
    "\n",
    "<img src=\"../figuras/ridge_coefficientes.png\" width=\"75%\">\n",
    "\n",
    "\n",
    "Contornos de la función de penalización y el error para la Regresión Lineal Ridge\n",
    "\n",
    "<img src=\"../figuras/ridge_regularization.png\" width=\"75%\">"
   ]
  },
  {
   "cell_type": "code",
   "execution_count": 33,
   "metadata": {},
   "outputs": [
    {
     "name": "stdout",
     "output_type": "stream",
     "text": [
      "MSE = 39023334852.238556\n",
      "Polinomio de grado 18:\n",
      "         18         17             16             15         14\n",
      "-0.3855 x  + 19.55 x  - 2.168e+05 x  + 6.004e+05 x  - 574.6 x \n",
      "          13        12         11         10             9\n",
      " + 20.47 x  - 2600 x  + 37.32 x  + 72.27 x  + 9.758e+04 x\n",
      "              8             7             6        5          4\n",
      " + 2.741e+04 x + 5.413e+04 x + 5.594e+05 x + 5839 x + 0.1361 x\n",
      "          3             2\n",
      " + 109.6 x + 4.033e+04 x - 3.582e+04 x + 5.737e+06\n"
     ]
    }
   ],
   "source": [
    "modeloLR = LinearRegression()\n",
    "modeloLR.fit(X, y)\n",
    "mse = mean_squared_error(y_prueba, modeloLR.predict(X_prueba))\n",
    "print('MSE =', mse )\n",
    "imprimir_coefficientes(modeloLR)"
   ]
  },
  {
   "cell_type": "markdown",
   "metadata": {},
   "source": [
    "## Selección de Atributos Usando Regresión Lasso"
   ]
  },
  {
   "cell_type": "code",
   "execution_count": 34,
   "metadata": {},
   "outputs": [],
   "source": [
    "def seleccion_atributos(k, penalidad_l1, data, salida, lista_atributos):\n",
    "    n = len(data)\n",
    "    mse = 0\n",
    "    modelo = Lasso(alpha=penalidad_l1)\n",
    "    X = data[lista_atributos]\n",
    "    y = data[salida]\n",
    "    for i in range(k):\n",
    "        inicio = (n*i)//k\n",
    "        fin = (n*(i+1))//k-1\n",
    "        X_validacion = X[inicio: fin+1]\n",
    "        y_validacion = y[inicio: fin+1]\n",
    "        X_entrenamiento = X[0:inicio]\n",
    "        y_entrenamiento = y[0:inicio]\n",
    "        ultimo_X = X[fin+1:n]\n",
    "        ultimo_y = y[fin+1:n]\n",
    "        X_entrenamiento = X_entrenamiento.append(ultimo_X)\n",
    "        y_entrenamiento = y_entrenamiento.append(ultimo_y)\n",
    "        modelo.fit(X_entrenamiento, y_entrenamiento)\n",
    "        mse += mean_squared_error(y_validacion, modelo.predict(X_validacion))\n",
    "    mse = mse / k\n",
    "    return mse"
   ]
  },
  {
   "cell_type": "code",
   "execution_count": 35,
   "metadata": {},
   "outputs": [
    {
     "name": "stdout",
     "output_type": "stream",
     "text": [
      "[4.09019683e+10 4.09019684e+10 4.09019685e+10 4.09019686e+10\n",
      " 4.09019688e+10 4.09019692e+10 4.09019698e+10 4.09019710e+10\n",
      " 4.09019733e+10 4.09019781e+10]\n"
     ]
    }
   ],
   "source": [
    "penalidad_l1 = np.logspace(-1.2, 0.6, num=10)\n",
    "mse = np.empty(len(penalidad_l1))\n",
    "data = ventas_entre_val[atributos]\n",
    "data['price'] = ventas_entre_val['price']\n",
    "for i in range(len(penalidad_l1)):\n",
    "    mse[i] = validacion_cruzada_k_fold(Lasso, 10, penalidad_l1[i], data, 'price', atributos)\n",
    "print (mse)"
   ]
  },
  {
   "cell_type": "code",
   "execution_count": 36,
   "metadata": {},
   "outputs": [
    {
     "name": "stdout",
     "output_type": "stream",
     "text": [
      "alfa =  3.9810717055349722\n",
      "MSE = 40901968325.11876\n"
     ]
    },
    {
     "data": {
      "image/png": "[encoded data removed]",
      "text/plain": [
       "<Figure size 640x480 with 1 Axes>"
      ]
     },
     "metadata": {},
     "output_type": "display_data"
    }
   ],
   "source": [
    "# Graficar los valores de la penalizacion_l1 en el eje xy el error de validación cruzada en el eje y.\n",
    "# El uso de plt.xscale ('log') hará que su trazado sea más intuitivo. \n",
    "alfa = penalidad_l1[np.argmax(mse)]\n",
    "print('alfa = ', alfa )\n",
    "print('MSE =', mse[np.argmin(mse)])\n",
    "plt.plot(penalidad_l1, mse,'.')\n",
    "plt.xscale('log')"
   ]
  },
  {
   "cell_type": "code",
   "execution_count": 37,
   "metadata": {},
   "outputs": [
    {
     "name": "stdout",
     "output_type": "stream",
     "text": [
      "MSE = 62701879848.294334\n",
      "Polinomio de grado 18:\n",
      "         18         17     16         13     12           4       3\n",
      "-0.7374 x  + 64.44 x  - 0 x  + 56.18 x  - 0 x  + 0.07515 x + 240 x - 0 x - 8.322e+04\n"
     ]
    }
   ],
   "source": [
    "modeloLasso = Lasso(alpha=5000000)\n",
    "modeloLasso.fit(X, y)\n",
    "mse = mean_squared_error(y_prueba, modeloLasso.predict(X_prueba))\n",
    "print('MSE =', mse )\n",
    "imprimir_coefficientes(modeloLasso)"
   ]
  },
  {
   "cell_type": "markdown",
   "metadata": {},
   "source": [
    "### Valor de los coefficientes con respecto al valor de la penalización. Regresión Lineal Lasso\n",
    "\n",
    "Los valores de los coeeficientes se van haciendo igual a cero a medida que se incrementa el valor de la penalización (alfa)\n",
    "\n",
    "<img src=\"../figuras/lasso_coefficientes.png\" width=\"75%\">\n",
    "\n",
    "\n",
    "Contornos de la función de penalización y el error para la Regresión Lineal Lasso\n",
    "\n",
    "<img src=\"../figuras/lasso_regularization.png\" width=\"75%\">"
   ]
  },
  {
   "cell_type": "code",
   "execution_count": null,
   "metadata": {},
   "outputs": [],
   "source": []
  }
 ],
 "metadata": {
  "anaconda-cloud": {},
  "kernelspec": {
   "display_name": "Python 3 (ipykernel)",
   "language": "python",
   "name": "python3"
  },
  "language_info": {
   "codemirror_mode": {
    "name": "ipython",
    "version": 3
   },
   "file_extension": ".py",
   "mimetype": "text/x-python",
   "name": "python",
   "nbconvert_exporter": "python",
   "pygments_lexer": "ipython3",
   "version": "3.11.9"
  }
 },
 "nbformat": 4,
 "nbformat_minor": 4
}
