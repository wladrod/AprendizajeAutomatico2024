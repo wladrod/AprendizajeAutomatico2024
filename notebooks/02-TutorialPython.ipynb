{
 "cells": [
  {
   "cell_type": "markdown",
   "metadata": {},
   "source": [
    "<center>\n",
    "    <h1>Tutorial de Python</h1>\n",
    "</center>"
   ]
  },
  {
   "cell_type": "markdown",
   "metadata": {},
   "source": [
    "<center>\n",
    "    <img src=\"../figuras/python-logo.png\" />\n",
    "</center>"
   ]
  },
  {
   "cell_type": "markdown",
   "metadata": {},
   "source": [
    "## Introducción"
   ]
  },
  {
   "cell_type": "markdown",
   "metadata": {},
   "source": [
    "Python es un lenguaje de programación:\n",
    "\n",
    "* Interpretado e Interactivo\n",
    "* Fácil de aprender, programar y **leer** (menos *bugs*)\n",
    "* De *muy alto nivel*\n",
    "* Multiparadigma\n",
    "* Orientado a objetos\n",
    "* Libre y con licencia permisiva\n",
    "* Eficiente\n",
    "* Versátil y potente! \n",
    "* Con gran documentación\n",
    "* Y una gran comunidad de usuarios"
   ]
  },
  {
   "cell_type": "markdown",
   "metadata": {},
   "source": [
    "## Historia\n",
    "- Inventado en Holanda, principios de los 90 por Guido van Rossum\n",
    "- El nombre viene del programa de televisión [Monty Python Flying Circus](https://es.wikipedia.org/wiki/Monty_Python)\n",
    "- Abierto desde el principio\n",
    "- Considerado un lenguaje de scripting, pero es mucho más\n",
    "- Escalable, orientado a objetos y funcional desde el principio\n",
    "- Utilizado por Google desde el principio"
   ]
  },
  {
   "cell_type": "markdown",
   "metadata": {},
   "source": [
    "## Creador de Python\n",
    "\n",
    "\"Python es un experimento en cuánta libertad los programadores necesitan. \n",
    " Demasiada libertad y nadie puede leer el código de otro; \n",
    " Demasiada poca y la expresividad está en peligro.\"\n",
    "      - Guido van Rossum\n",
    "      \n",
    "<img src=\"../figuras/guido.jpg\" />"
   ]
  },
  {
   "cell_type": "markdown",
   "metadata": {},
   "source": [
    "## El zen de Python"
   ]
  },
  {
   "cell_type": "code",
   "execution_count": 1,
   "metadata": {},
   "outputs": [
    {
     "name": "stdout",
     "output_type": "stream",
     "text": [
      "The Zen of Python, by Tim Peters\n",
      "\n",
      "Beautiful is better than ugly.\n",
      "Explicit is better than implicit.\n",
      "Simple is better than complex.\n",
      "Complex is better than complicated.\n",
      "Flat is better than nested.\n",
      "Sparse is better than dense.\n",
      "Readability counts.\n",
      "Special cases aren't special enough to break the rules.\n",
      "Although practicality beats purity.\n",
      "Errors should never pass silently.\n",
      "Unless explicitly silenced.\n",
      "In the face of ambiguity, refuse the temptation to guess.\n",
      "There should be one-- and preferably only one --obvious way to do it.\n",
      "Although that way may not be obvious at first unless you're Dutch.\n",
      "Now is better than never.\n",
      "Although never is often better than *right* now.\n",
      "If the implementation is hard to explain, it's a bad idea.\n",
      "If the implementation is easy to explain, it may be a good idea.\n",
      "Namespaces are one honking great idea -- let's do more of those!\n"
     ]
    }
   ],
   "source": [
    "import this"
   ]
  },
  {
   "cell_type": "markdown",
   "metadata": {},
   "source": [
    "El Zen de Python, de Tim Peters\n",
    "\n",
    "- Bello es mejor que feo.\n",
    "- Explícito es mejor que implícito.\n",
    "- Simple es mejor que complejo.\n",
    "- Complejo es mejor que complicado.\n",
    "- Plano es mejor que anidado.\n",
    "- Disperso es mejor que denso.\n",
    "- La legibilidad cuenta.\n",
    "- Los casos especiales no son lo suficientemente especiales como para romper las reglas.\n",
    "- Aunque la practicidad supera a la pureza.\n",
    "- Los errores nunca deberían pasar silenciosamente.\n",
    "- A menos que sean explícitamente silenciados.\n",
    "- Frente a la ambigüedad, rechaza la tentación de adivinar.\n",
    "- Debería haber una -- y preferiblemente solo una -- manera obvia de hacerlo.\n",
    "- Aunque esa manera puede no ser obvia al principio a menos que seas holandés.\n",
    "- Ahora es mejor que nunca.\n",
    "- Aunque nunca es a menudo mejor que justo ahora.\n",
    "- Si la implementación es difícil de explicar, es una mala idea.\n",
    "- Si la implementación es fácil de explicar, puede ser una buena idea.\n",
    "- ¡Los espacios de nombres son una gran idea -- hagamos más de esos!"
   ]
  },
  {
   "cell_type": "markdown",
   "metadata": {},
   "source": [
    "## Versiones de Python"
   ]
  },
  {
   "cell_type": "markdown",
   "metadata": {},
   "source": [
    "La última versión es Python 3.12. Para esta clase todo el código utilizará Python 3.11.\n",
    "Puede comprobar su versión de Python en la línea de comandos ejecutando `python --version`."
   ]
  },
  {
   "cell_type": "markdown",
   "metadata": {},
   "source": [
    "## Instalar Python"
   ]
  },
  {
   "cell_type": "markdown",
   "metadata": {},
   "source": [
    "Podemos instalar Python de diferentes formas:\n",
    "\n",
    "1. Directamente de la página de [Python.org](http://www.python.org)\n",
    "2. Descargar la suite Miniforge3 (Python 3.10)\n",
    "3. Descargar la suite \"Anaconda\" (Python 3.11)\n",
    "\n",
    "### 1. [Python](http://www.python.org)\n",
    "\n",
    "<center>\n",
    "    <img src=\"../figuras/Python.png\" />\n",
    "</center>\n",
    "\n",
    "### 2. [Miniforge3](https://github.com/conda-forge/miniforge)\n",
    "\n",
    "<center>\n",
    "    <img src=\"../figuras/Miniforge3.png\" />\n",
    "</center>\n",
    "\n",
    "### 3. [Anaconda](https://www.anaconda.com/download/)\n",
    "\n",
    "<center>\n",
    "    <img src=\"../figuras/Anaconda.png\" />\n",
    "</center>"
   ]
  },
  {
   "cell_type": "markdown",
   "metadata": {},
   "source": [
    "## Introducción a Jupyter Notebooks y Python"
   ]
  },
  {
   "cell_type": "markdown",
   "metadata": {},
   "source": [
    "En este tutorial, cubriremos:\n",
    "\n",
    "- Jupyter: Creación de notebooks\n",
    "- Python básico: Tipos de datos básicos (Contenedores, Listas, Diccionarios, Conjuntos, Tuplas), Funciones, Clases\n"
   ]
  },
  {
   "cell_type": "markdown",
   "metadata": {},
   "source": [
    "## Jupyter Notebooks\n",
    "\n",
    "El _Jupyter Notebook_ es una herramienta increíblemente poderosa para desarrollar y presentar proyectos de ciencia de datos de manera interactiva. Un _Notebook_ integra el código y su salida en un único documento que combina visualizaciones, texto narrativo, ecuaciones matemáticas y otros medios. El flujo de trabajo intuitivo promueve el desarrollo iterativo y rápido, convirtiendo a los _Notebooks_ en una opción cada vez más popular en la ciencia de datos contemporánea, el análisis y, cada vez más, la ciencia en general. Lo mejor de todo es que, como parte del proyecto de código abierto [Jupyter](https://jupyter.org/), son completamente gratuitos."
   ]
  },
  {
   "cell_type": "markdown",
   "metadata": {},
   "source": [
    "## Jupyter Lab\n",
    "\n",
    "*JupyterLab* es la próxima generación de los Notebook de Jupyter. Su objetivo es solucionar muchos problemas de usabilidad de los Notebooks, y amplía enormemente su alcance. JupyterLab ofrece un marco general para la computación interactiva y la ciencia de datos en el navegador, usando Python, Julia, R o uno de muchos otros lenguajes.\n",
    "\n",
    "Además de proporcionar una interfaz mejorada para los Notebooks existentes, JupyterLab también incorpora dentro de la misma interfaz un explorador de archivos, consolas, terminales, editores de texto, editores Markdown, editores CSV, editores JSON, mapas interactivos, widgets, etc. La arquitectura es completamente extensible y está abierta a desarrolladores. En una palabra, JupyterLab es un IDE personalizable basado en la web para ciencia de datos y computación interactiva.\n",
    "\n",
    "JupyterLab utiliza exactamente el mismo servidor y formato de archivo que el Jupyter Notebook clásico, por lo que es totalmente compatible con los Notebooks y kernels existentes. Los Notebook clásicos y Jupyterlab pueden correr de un lado a otro en la misma computadora. Uno puede cambiar fácilmente entre las dos interfaces.\n"
   ]
  },
  {
   "cell_type": "markdown",
   "metadata": {},
   "source": [
    "## Arquitectura de JupyterLab\n",
    "\n",
    "<center>\n",
    "    <img src='../figuras/notebook_components.png' width=\"75%\"/>\n",
    "</center>\n"
   ]
  },
  {
   "cell_type": "markdown",
   "metadata": {},
   "source": [
    "##  Teclas de acceso rápido\n",
    "\n",
    "<img src='../figuras/teclas_acceso_rapido.png/'/>"
   ]
  },
  {
   "cell_type": "markdown",
   "metadata": {},
   "source": [
    "<img src='../figuras/ShortcutKeys.png'/>"
   ]
  },
  {
   "cell_type": "markdown",
   "metadata": {},
   "source": [
    "## Tecla TAB"
   ]
  },
  {
   "cell_type": "code",
   "execution_count": 2,
   "metadata": {},
   "outputs": [],
   "source": [
    "import numpy as np\n",
    "import matplotlib.pyplot as plt\n",
    "%matplotlib inline"
   ]
  },
  {
   "cell_type": "code",
   "execution_count": 8,
   "metadata": {},
   "outputs": [],
   "source": [
    "# autocompletar con TAB\n",
    "\n",
    "np."
   ]
  },
  {
   "cell_type": "markdown",
   "metadata": {},
   "source": [
    "<img src='../figuras/autocompletar.png'/>"
   ]
  },
  {
   "cell_type": "markdown",
   "metadata": {},
   "source": [
    "## Shift TAB"
   ]
  },
  {
   "cell_type": "code",
   "execution_count": 5,
   "metadata": {},
   "outputs": [],
   "source": [
    "# despliega información sobre los parámetros de la función\n",
    "np.linspace()"
   ]
  },
  {
   "cell_type": "markdown",
   "metadata": {},
   "source": [
    "<img src='../figuras/parametros_funcion.png' />"
   ]
  },
  {
   "cell_type": "markdown",
   "metadata": {},
   "source": [
    "## Teclas de ayuda ? y ??"
   ]
  },
  {
   "cell_type": "code",
   "execution_count": 3,
   "metadata": {},
   "outputs": [
    {
     "data": {
      "text/plain": [
       "\u001b[0;31mSignature:\u001b[0m      \n",
       "\u001b[0mnp\u001b[0m\u001b[0;34m.\u001b[0m\u001b[0mlinspace\u001b[0m\u001b[0;34m(\u001b[0m\u001b[0;34m\u001b[0m\n",
       "\u001b[0;34m\u001b[0m    \u001b[0mstart\u001b[0m\u001b[0;34m,\u001b[0m\u001b[0;34m\u001b[0m\n",
       "\u001b[0;34m\u001b[0m    \u001b[0mstop\u001b[0m\u001b[0;34m,\u001b[0m\u001b[0;34m\u001b[0m\n",
       "\u001b[0;34m\u001b[0m    \u001b[0mnum\u001b[0m\u001b[0;34m=\u001b[0m\u001b[0;36m50\u001b[0m\u001b[0;34m,\u001b[0m\u001b[0;34m\u001b[0m\n",
       "\u001b[0;34m\u001b[0m    \u001b[0mendpoint\u001b[0m\u001b[0;34m=\u001b[0m\u001b[0;32mTrue\u001b[0m\u001b[0;34m,\u001b[0m\u001b[0;34m\u001b[0m\n",
       "\u001b[0;34m\u001b[0m    \u001b[0mretstep\u001b[0m\u001b[0;34m=\u001b[0m\u001b[0;32mFalse\u001b[0m\u001b[0;34m,\u001b[0m\u001b[0;34m\u001b[0m\n",
       "\u001b[0;34m\u001b[0m    \u001b[0mdtype\u001b[0m\u001b[0;34m=\u001b[0m\u001b[0;32mNone\u001b[0m\u001b[0;34m,\u001b[0m\u001b[0;34m\u001b[0m\n",
       "\u001b[0;34m\u001b[0m    \u001b[0maxis\u001b[0m\u001b[0;34m=\u001b[0m\u001b[0;36m0\u001b[0m\u001b[0;34m,\u001b[0m\u001b[0;34m\u001b[0m\n",
       "\u001b[0;34m\u001b[0m\u001b[0;34m)\u001b[0m\u001b[0;34m\u001b[0m\u001b[0;34m\u001b[0m\u001b[0m\n",
       "\u001b[0;31mCall signature:\u001b[0m  \u001b[0mnp\u001b[0m\u001b[0;34m.\u001b[0m\u001b[0mlinspace\u001b[0m\u001b[0;34m(\u001b[0m\u001b[0;34m*\u001b[0m\u001b[0margs\u001b[0m\u001b[0;34m,\u001b[0m \u001b[0;34m**\u001b[0m\u001b[0mkwargs\u001b[0m\u001b[0;34m)\u001b[0m\u001b[0;34m\u001b[0m\u001b[0;34m\u001b[0m\u001b[0m\n",
       "\u001b[0;31mType:\u001b[0m            _ArrayFunctionDispatcher\n",
       "\u001b[0;31mString form:\u001b[0m     <function linspace at 0x1137d1c60>\n",
       "\u001b[0;31mFile:\u001b[0m            ~/miniforge3/envs/AA2024/lib/python3.11/site-packages/numpy/core/function_base.py\n",
       "\u001b[0;31mDocstring:\u001b[0m      \n",
       "Return evenly spaced numbers over a specified interval.\n",
       "\n",
       "Returns `num` evenly spaced samples, calculated over the\n",
       "interval [`start`, `stop`].\n",
       "\n",
       "The endpoint of the interval can optionally be excluded.\n",
       "\n",
       ".. versionchanged:: 1.16.0\n",
       "    Non-scalar `start` and `stop` are now supported.\n",
       "\n",
       ".. versionchanged:: 1.20.0\n",
       "    Values are rounded towards ``-inf`` instead of ``0`` when an\n",
       "    integer ``dtype`` is specified. The old behavior can\n",
       "    still be obtained with ``np.linspace(start, stop, num).astype(int)``\n",
       "\n",
       "Parameters\n",
       "----------\n",
       "start : array_like\n",
       "    The starting value of the sequence.\n",
       "stop : array_like\n",
       "    The end value of the sequence, unless `endpoint` is set to False.\n",
       "    In that case, the sequence consists of all but the last of ``num + 1``\n",
       "    evenly spaced samples, so that `stop` is excluded.  Note that the step\n",
       "    size changes when `endpoint` is False.\n",
       "num : int, optional\n",
       "    Number of samples to generate. Default is 50. Must be non-negative.\n",
       "endpoint : bool, optional\n",
       "    If True, `stop` is the last sample. Otherwise, it is not included.\n",
       "    Default is True.\n",
       "retstep : bool, optional\n",
       "    If True, return (`samples`, `step`), where `step` is the spacing\n",
       "    between samples.\n",
       "dtype : dtype, optional\n",
       "    The type of the output array.  If `dtype` is not given, the data type\n",
       "    is inferred from `start` and `stop`. The inferred dtype will never be\n",
       "    an integer; `float` is chosen even if the arguments would produce an\n",
       "    array of integers.\n",
       "\n",
       "    .. versionadded:: 1.9.0\n",
       "\n",
       "axis : int, optional\n",
       "    The axis in the result to store the samples.  Relevant only if start\n",
       "    or stop are array-like.  By default (0), the samples will be along a\n",
       "    new axis inserted at the beginning. Use -1 to get an axis at the end.\n",
       "\n",
       "    .. versionadded:: 1.16.0\n",
       "\n",
       "Returns\n",
       "-------\n",
       "samples : ndarray\n",
       "    There are `num` equally spaced samples in the closed interval\n",
       "    ``[start, stop]`` or the half-open interval ``[start, stop)``\n",
       "    (depending on whether `endpoint` is True or False).\n",
       "step : float, optional\n",
       "    Only returned if `retstep` is True\n",
       "\n",
       "    Size of spacing between samples.\n",
       "\n",
       "\n",
       "See Also\n",
       "--------\n",
       "arange : Similar to `linspace`, but uses a step size (instead of the\n",
       "         number of samples).\n",
       "geomspace : Similar to `linspace`, but with numbers spaced evenly on a log\n",
       "            scale (a geometric progression).\n",
       "logspace : Similar to `geomspace`, but with the end points specified as\n",
       "           logarithms.\n",
       ":ref:`how-to-partition`\n",
       "\n",
       "Examples\n",
       "--------\n",
       ">>> np.linspace(2.0, 3.0, num=5)\n",
       "array([2.  , 2.25, 2.5 , 2.75, 3.  ])\n",
       ">>> np.linspace(2.0, 3.0, num=5, endpoint=False)\n",
       "array([2. ,  2.2,  2.4,  2.6,  2.8])\n",
       ">>> np.linspace(2.0, 3.0, num=5, retstep=True)\n",
       "(array([2.  ,  2.25,  2.5 ,  2.75,  3.  ]), 0.25)\n",
       "\n",
       "Graphical illustration:\n",
       "\n",
       ">>> import matplotlib.pyplot as plt\n",
       ">>> N = 8\n",
       ">>> y = np.zeros(N)\n",
       ">>> x1 = np.linspace(0, 10, N, endpoint=True)\n",
       ">>> x2 = np.linspace(0, 10, N, endpoint=False)\n",
       ">>> plt.plot(x1, y, 'o')\n",
       "[<matplotlib.lines.Line2D object at 0x...>]\n",
       ">>> plt.plot(x2, y + 0.5, 'o')\n",
       "[<matplotlib.lines.Line2D object at 0x...>]\n",
       ">>> plt.ylim([-0.5, 1])\n",
       "(-0.5, 1)\n",
       ">>> plt.show()\n",
       "\u001b[0;31mClass docstring:\u001b[0m\n",
       "Class to wrap functions with checks for __array_function__ overrides.\n",
       "\n",
       "All arguments are required, and can only be passed by position.\n",
       "\n",
       "Parameters\n",
       "----------\n",
       "dispatcher : function or None\n",
       "    The dispatcher function that returns a single sequence-like object\n",
       "    of all arguments relevant.  It must have the same signature (except\n",
       "    the default values) as the actual implementation.\n",
       "    If ``None``, this is a ``like=`` dispatcher and the\n",
       "    ``_ArrayFunctionDispatcher`` must be called with ``like`` as the\n",
       "    first (additional and positional) argument.\n",
       "implementation : function\n",
       "    Function that implements the operation on NumPy arrays without\n",
       "    overrides.  Arguments passed calling the ``_ArrayFunctionDispatcher``\n",
       "    will be forwarded to this (and the ``dispatcher``) as if using\n",
       "    ``*args, **kwargs``.\n",
       "\n",
       "Attributes\n",
       "----------\n",
       "_implementation : function\n",
       "    The original implementation passed in."
      ]
     },
     "metadata": {},
     "output_type": "display_data"
    }
   ],
   "source": [
    "# despliega la ayuda sobre la función\n",
    "np.linspace?"
   ]
  },
  {
   "cell_type": "markdown",
   "metadata": {},
   "source": [
    "<img src='../figuras/ayuda_funcion.png'/>"
   ]
  },
  {
   "cell_type": "code",
   "execution_count": 4,
   "metadata": {},
   "outputs": [
    {
     "data": {
      "text/plain": [
       "\u001b[0;31mSignature:\u001b[0m      \n",
       "\u001b[0mnp\u001b[0m\u001b[0;34m.\u001b[0m\u001b[0mlinspace\u001b[0m\u001b[0;34m(\u001b[0m\u001b[0;34m\u001b[0m\n",
       "\u001b[0;34m\u001b[0m    \u001b[0mstart\u001b[0m\u001b[0;34m,\u001b[0m\u001b[0;34m\u001b[0m\n",
       "\u001b[0;34m\u001b[0m    \u001b[0mstop\u001b[0m\u001b[0;34m,\u001b[0m\u001b[0;34m\u001b[0m\n",
       "\u001b[0;34m\u001b[0m    \u001b[0mnum\u001b[0m\u001b[0;34m=\u001b[0m\u001b[0;36m50\u001b[0m\u001b[0;34m,\u001b[0m\u001b[0;34m\u001b[0m\n",
       "\u001b[0;34m\u001b[0m    \u001b[0mendpoint\u001b[0m\u001b[0;34m=\u001b[0m\u001b[0;32mTrue\u001b[0m\u001b[0;34m,\u001b[0m\u001b[0;34m\u001b[0m\n",
       "\u001b[0;34m\u001b[0m    \u001b[0mretstep\u001b[0m\u001b[0;34m=\u001b[0m\u001b[0;32mFalse\u001b[0m\u001b[0;34m,\u001b[0m\u001b[0;34m\u001b[0m\n",
       "\u001b[0;34m\u001b[0m    \u001b[0mdtype\u001b[0m\u001b[0;34m=\u001b[0m\u001b[0;32mNone\u001b[0m\u001b[0;34m,\u001b[0m\u001b[0;34m\u001b[0m\n",
       "\u001b[0;34m\u001b[0m    \u001b[0maxis\u001b[0m\u001b[0;34m=\u001b[0m\u001b[0;36m0\u001b[0m\u001b[0;34m,\u001b[0m\u001b[0;34m\u001b[0m\n",
       "\u001b[0;34m\u001b[0m\u001b[0;34m)\u001b[0m\u001b[0;34m\u001b[0m\u001b[0;34m\u001b[0m\u001b[0m\n",
       "\u001b[0;31mCall signature:\u001b[0m  \u001b[0mnp\u001b[0m\u001b[0;34m.\u001b[0m\u001b[0mlinspace\u001b[0m\u001b[0;34m(\u001b[0m\u001b[0;34m*\u001b[0m\u001b[0margs\u001b[0m\u001b[0;34m,\u001b[0m \u001b[0;34m**\u001b[0m\u001b[0mkwargs\u001b[0m\u001b[0;34m)\u001b[0m\u001b[0;34m\u001b[0m\u001b[0;34m\u001b[0m\u001b[0m\n",
       "\u001b[0;31mType:\u001b[0m            _ArrayFunctionDispatcher\n",
       "\u001b[0;31mString form:\u001b[0m     <function linspace at 0x1137d1c60>\n",
       "\u001b[0;31mFile:\u001b[0m            ~/miniforge3/envs/AA2024/lib/python3.11/site-packages/numpy/core/function_base.py\n",
       "\u001b[0;31mSource:\u001b[0m         \n",
       "\u001b[0;34m@\u001b[0m\u001b[0marray_function_dispatch\u001b[0m\u001b[0;34m(\u001b[0m\u001b[0m_linspace_dispatcher\u001b[0m\u001b[0;34m)\u001b[0m\u001b[0;34m\u001b[0m\n",
       "\u001b[0;34m\u001b[0m\u001b[0;32mdef\u001b[0m \u001b[0mlinspace\u001b[0m\u001b[0;34m(\u001b[0m\u001b[0mstart\u001b[0m\u001b[0;34m,\u001b[0m \u001b[0mstop\u001b[0m\u001b[0;34m,\u001b[0m \u001b[0mnum\u001b[0m\u001b[0;34m=\u001b[0m\u001b[0;36m50\u001b[0m\u001b[0;34m,\u001b[0m \u001b[0mendpoint\u001b[0m\u001b[0;34m=\u001b[0m\u001b[0;32mTrue\u001b[0m\u001b[0;34m,\u001b[0m \u001b[0mretstep\u001b[0m\u001b[0;34m=\u001b[0m\u001b[0;32mFalse\u001b[0m\u001b[0;34m,\u001b[0m \u001b[0mdtype\u001b[0m\u001b[0;34m=\u001b[0m\u001b[0;32mNone\u001b[0m\u001b[0;34m,\u001b[0m\u001b[0;34m\u001b[0m\n",
       "\u001b[0;34m\u001b[0m             \u001b[0maxis\u001b[0m\u001b[0;34m=\u001b[0m\u001b[0;36m0\u001b[0m\u001b[0;34m)\u001b[0m\u001b[0;34m:\u001b[0m\u001b[0;34m\u001b[0m\n",
       "\u001b[0;34m\u001b[0m    \u001b[0;34m\"\"\"\u001b[0m\n",
       "\u001b[0;34m    Return evenly spaced numbers over a specified interval.\u001b[0m\n",
       "\u001b[0;34m\u001b[0m\n",
       "\u001b[0;34m    Returns `num` evenly spaced samples, calculated over the\u001b[0m\n",
       "\u001b[0;34m    interval [`start`, `stop`].\u001b[0m\n",
       "\u001b[0;34m\u001b[0m\n",
       "\u001b[0;34m    The endpoint of the interval can optionally be excluded.\u001b[0m\n",
       "\u001b[0;34m\u001b[0m\n",
       "\u001b[0;34m    .. versionchanged:: 1.16.0\u001b[0m\n",
       "\u001b[0;34m        Non-scalar `start` and `stop` are now supported.\u001b[0m\n",
       "\u001b[0;34m\u001b[0m\n",
       "\u001b[0;34m    .. versionchanged:: 1.20.0\u001b[0m\n",
       "\u001b[0;34m        Values are rounded towards ``-inf`` instead of ``0`` when an\u001b[0m\n",
       "\u001b[0;34m        integer ``dtype`` is specified. The old behavior can\u001b[0m\n",
       "\u001b[0;34m        still be obtained with ``np.linspace(start, stop, num).astype(int)``\u001b[0m\n",
       "\u001b[0;34m\u001b[0m\n",
       "\u001b[0;34m    Parameters\u001b[0m\n",
       "\u001b[0;34m    ----------\u001b[0m\n",
       "\u001b[0;34m    start : array_like\u001b[0m\n",
       "\u001b[0;34m        The starting value of the sequence.\u001b[0m\n",
       "\u001b[0;34m    stop : array_like\u001b[0m\n",
       "\u001b[0;34m        The end value of the sequence, unless `endpoint` is set to False.\u001b[0m\n",
       "\u001b[0;34m        In that case, the sequence consists of all but the last of ``num + 1``\u001b[0m\n",
       "\u001b[0;34m        evenly spaced samples, so that `stop` is excluded.  Note that the step\u001b[0m\n",
       "\u001b[0;34m        size changes when `endpoint` is False.\u001b[0m\n",
       "\u001b[0;34m    num : int, optional\u001b[0m\n",
       "\u001b[0;34m        Number of samples to generate. Default is 50. Must be non-negative.\u001b[0m\n",
       "\u001b[0;34m    endpoint : bool, optional\u001b[0m\n",
       "\u001b[0;34m        If True, `stop` is the last sample. Otherwise, it is not included.\u001b[0m\n",
       "\u001b[0;34m        Default is True.\u001b[0m\n",
       "\u001b[0;34m    retstep : bool, optional\u001b[0m\n",
       "\u001b[0;34m        If True, return (`samples`, `step`), where `step` is the spacing\u001b[0m\n",
       "\u001b[0;34m        between samples.\u001b[0m\n",
       "\u001b[0;34m    dtype : dtype, optional\u001b[0m\n",
       "\u001b[0;34m        The type of the output array.  If `dtype` is not given, the data type\u001b[0m\n",
       "\u001b[0;34m        is inferred from `start` and `stop`. The inferred dtype will never be\u001b[0m\n",
       "\u001b[0;34m        an integer; `float` is chosen even if the arguments would produce an\u001b[0m\n",
       "\u001b[0;34m        array of integers.\u001b[0m\n",
       "\u001b[0;34m\u001b[0m\n",
       "\u001b[0;34m        .. versionadded:: 1.9.0\u001b[0m\n",
       "\u001b[0;34m\u001b[0m\n",
       "\u001b[0;34m    axis : int, optional\u001b[0m\n",
       "\u001b[0;34m        The axis in the result to store the samples.  Relevant only if start\u001b[0m\n",
       "\u001b[0;34m        or stop are array-like.  By default (0), the samples will be along a\u001b[0m\n",
       "\u001b[0;34m        new axis inserted at the beginning. Use -1 to get an axis at the end.\u001b[0m\n",
       "\u001b[0;34m\u001b[0m\n",
       "\u001b[0;34m        .. versionadded:: 1.16.0\u001b[0m\n",
       "\u001b[0;34m\u001b[0m\n",
       "\u001b[0;34m    Returns\u001b[0m\n",
       "\u001b[0;34m    -------\u001b[0m\n",
       "\u001b[0;34m    samples : ndarray\u001b[0m\n",
       "\u001b[0;34m        There are `num` equally spaced samples in the closed interval\u001b[0m\n",
       "\u001b[0;34m        ``[start, stop]`` or the half-open interval ``[start, stop)``\u001b[0m\n",
       "\u001b[0;34m        (depending on whether `endpoint` is True or False).\u001b[0m\n",
       "\u001b[0;34m    step : float, optional\u001b[0m\n",
       "\u001b[0;34m        Only returned if `retstep` is True\u001b[0m\n",
       "\u001b[0;34m\u001b[0m\n",
       "\u001b[0;34m        Size of spacing between samples.\u001b[0m\n",
       "\u001b[0;34m\u001b[0m\n",
       "\u001b[0;34m\u001b[0m\n",
       "\u001b[0;34m    See Also\u001b[0m\n",
       "\u001b[0;34m    --------\u001b[0m\n",
       "\u001b[0;34m    arange : Similar to `linspace`, but uses a step size (instead of the\u001b[0m\n",
       "\u001b[0;34m             number of samples).\u001b[0m\n",
       "\u001b[0;34m    geomspace : Similar to `linspace`, but with numbers spaced evenly on a log\u001b[0m\n",
       "\u001b[0;34m                scale (a geometric progression).\u001b[0m\n",
       "\u001b[0;34m    logspace : Similar to `geomspace`, but with the end points specified as\u001b[0m\n",
       "\u001b[0;34m               logarithms.\u001b[0m\n",
       "\u001b[0;34m    :ref:`how-to-partition`\u001b[0m\n",
       "\u001b[0;34m\u001b[0m\n",
       "\u001b[0;34m    Examples\u001b[0m\n",
       "\u001b[0;34m    --------\u001b[0m\n",
       "\u001b[0;34m    >>> np.linspace(2.0, 3.0, num=5)\u001b[0m\n",
       "\u001b[0;34m    array([2.  , 2.25, 2.5 , 2.75, 3.  ])\u001b[0m\n",
       "\u001b[0;34m    >>> np.linspace(2.0, 3.0, num=5, endpoint=False)\u001b[0m\n",
       "\u001b[0;34m    array([2. ,  2.2,  2.4,  2.6,  2.8])\u001b[0m\n",
       "\u001b[0;34m    >>> np.linspace(2.0, 3.0, num=5, retstep=True)\u001b[0m\n",
       "\u001b[0;34m    (array([2.  ,  2.25,  2.5 ,  2.75,  3.  ]), 0.25)\u001b[0m\n",
       "\u001b[0;34m\u001b[0m\n",
       "\u001b[0;34m    Graphical illustration:\u001b[0m\n",
       "\u001b[0;34m\u001b[0m\n",
       "\u001b[0;34m    >>> import matplotlib.pyplot as plt\u001b[0m\n",
       "\u001b[0;34m    >>> N = 8\u001b[0m\n",
       "\u001b[0;34m    >>> y = np.zeros(N)\u001b[0m\n",
       "\u001b[0;34m    >>> x1 = np.linspace(0, 10, N, endpoint=True)\u001b[0m\n",
       "\u001b[0;34m    >>> x2 = np.linspace(0, 10, N, endpoint=False)\u001b[0m\n",
       "\u001b[0;34m    >>> plt.plot(x1, y, 'o')\u001b[0m\n",
       "\u001b[0;34m    [<matplotlib.lines.Line2D object at 0x...>]\u001b[0m\n",
       "\u001b[0;34m    >>> plt.plot(x2, y + 0.5, 'o')\u001b[0m\n",
       "\u001b[0;34m    [<matplotlib.lines.Line2D object at 0x...>]\u001b[0m\n",
       "\u001b[0;34m    >>> plt.ylim([-0.5, 1])\u001b[0m\n",
       "\u001b[0;34m    (-0.5, 1)\u001b[0m\n",
       "\u001b[0;34m    >>> plt.show()\u001b[0m\n",
       "\u001b[0;34m\u001b[0m\n",
       "\u001b[0;34m    \"\"\"\u001b[0m\u001b[0;34m\u001b[0m\n",
       "\u001b[0;34m\u001b[0m    \u001b[0mnum\u001b[0m \u001b[0;34m=\u001b[0m \u001b[0moperator\u001b[0m\u001b[0;34m.\u001b[0m\u001b[0mindex\u001b[0m\u001b[0;34m(\u001b[0m\u001b[0mnum\u001b[0m\u001b[0;34m)\u001b[0m\u001b[0;34m\u001b[0m\n",
       "\u001b[0;34m\u001b[0m    \u001b[0;32mif\u001b[0m \u001b[0mnum\u001b[0m \u001b[0;34m<\u001b[0m \u001b[0;36m0\u001b[0m\u001b[0;34m:\u001b[0m\u001b[0;34m\u001b[0m\n",
       "\u001b[0;34m\u001b[0m        \u001b[0;32mraise\u001b[0m \u001b[0mValueError\u001b[0m\u001b[0;34m(\u001b[0m\u001b[0;34m\"Number of samples, %s, must be non-negative.\"\u001b[0m \u001b[0;34m%\u001b[0m \u001b[0mnum\u001b[0m\u001b[0;34m)\u001b[0m\u001b[0;34m\u001b[0m\n",
       "\u001b[0;34m\u001b[0m    \u001b[0mdiv\u001b[0m \u001b[0;34m=\u001b[0m \u001b[0;34m(\u001b[0m\u001b[0mnum\u001b[0m \u001b[0;34m-\u001b[0m \u001b[0;36m1\u001b[0m\u001b[0;34m)\u001b[0m \u001b[0;32mif\u001b[0m \u001b[0mendpoint\u001b[0m \u001b[0;32melse\u001b[0m \u001b[0mnum\u001b[0m\u001b[0;34m\u001b[0m\n",
       "\u001b[0;34m\u001b[0m\u001b[0;34m\u001b[0m\n",
       "\u001b[0;34m\u001b[0m    \u001b[0;31m# Convert float/complex array scalars to float, gh-3504\u001b[0m\u001b[0;34m\u001b[0m\n",
       "\u001b[0;34m\u001b[0m    \u001b[0;31m# and make sure one can use variables that have an __array_interface__, gh-6634\u001b[0m\u001b[0;34m\u001b[0m\n",
       "\u001b[0;34m\u001b[0m    \u001b[0mstart\u001b[0m \u001b[0;34m=\u001b[0m \u001b[0masanyarray\u001b[0m\u001b[0;34m(\u001b[0m\u001b[0mstart\u001b[0m\u001b[0;34m)\u001b[0m \u001b[0;34m*\u001b[0m \u001b[0;36m1.0\u001b[0m\u001b[0;34m\u001b[0m\n",
       "\u001b[0;34m\u001b[0m    \u001b[0mstop\u001b[0m  \u001b[0;34m=\u001b[0m \u001b[0masanyarray\u001b[0m\u001b[0;34m(\u001b[0m\u001b[0mstop\u001b[0m\u001b[0;34m)\u001b[0m  \u001b[0;34m*\u001b[0m \u001b[0;36m1.0\u001b[0m\u001b[0;34m\u001b[0m\n",
       "\u001b[0;34m\u001b[0m\u001b[0;34m\u001b[0m\n",
       "\u001b[0;34m\u001b[0m    \u001b[0mdt\u001b[0m \u001b[0;34m=\u001b[0m \u001b[0mresult_type\u001b[0m\u001b[0;34m(\u001b[0m\u001b[0mstart\u001b[0m\u001b[0;34m,\u001b[0m \u001b[0mstop\u001b[0m\u001b[0;34m,\u001b[0m \u001b[0mfloat\u001b[0m\u001b[0;34m(\u001b[0m\u001b[0mnum\u001b[0m\u001b[0;34m)\u001b[0m\u001b[0;34m)\u001b[0m\u001b[0;34m\u001b[0m\n",
       "\u001b[0;34m\u001b[0m    \u001b[0;32mif\u001b[0m \u001b[0mdtype\u001b[0m \u001b[0;32mis\u001b[0m \u001b[0;32mNone\u001b[0m\u001b[0;34m:\u001b[0m\u001b[0;34m\u001b[0m\n",
       "\u001b[0;34m\u001b[0m        \u001b[0mdtype\u001b[0m \u001b[0;34m=\u001b[0m \u001b[0mdt\u001b[0m\u001b[0;34m\u001b[0m\n",
       "\u001b[0;34m\u001b[0m        \u001b[0minteger_dtype\u001b[0m \u001b[0;34m=\u001b[0m \u001b[0;32mFalse\u001b[0m\u001b[0;34m\u001b[0m\n",
       "\u001b[0;34m\u001b[0m    \u001b[0;32melse\u001b[0m\u001b[0;34m:\u001b[0m\u001b[0;34m\u001b[0m\n",
       "\u001b[0;34m\u001b[0m        \u001b[0minteger_dtype\u001b[0m \u001b[0;34m=\u001b[0m \u001b[0m_nx\u001b[0m\u001b[0;34m.\u001b[0m\u001b[0missubdtype\u001b[0m\u001b[0;34m(\u001b[0m\u001b[0mdtype\u001b[0m\u001b[0;34m,\u001b[0m \u001b[0m_nx\u001b[0m\u001b[0;34m.\u001b[0m\u001b[0minteger\u001b[0m\u001b[0;34m)\u001b[0m\u001b[0;34m\u001b[0m\n",
       "\u001b[0;34m\u001b[0m\u001b[0;34m\u001b[0m\n",
       "\u001b[0;34m\u001b[0m    \u001b[0mdelta\u001b[0m \u001b[0;34m=\u001b[0m \u001b[0mstop\u001b[0m \u001b[0;34m-\u001b[0m \u001b[0mstart\u001b[0m\u001b[0;34m\u001b[0m\n",
       "\u001b[0;34m\u001b[0m    \u001b[0my\u001b[0m \u001b[0;34m=\u001b[0m \u001b[0m_nx\u001b[0m\u001b[0;34m.\u001b[0m\u001b[0marange\u001b[0m\u001b[0;34m(\u001b[0m\u001b[0;36m0\u001b[0m\u001b[0;34m,\u001b[0m \u001b[0mnum\u001b[0m\u001b[0;34m,\u001b[0m \u001b[0mdtype\u001b[0m\u001b[0;34m=\u001b[0m\u001b[0mdt\u001b[0m\u001b[0;34m)\u001b[0m\u001b[0;34m.\u001b[0m\u001b[0mreshape\u001b[0m\u001b[0;34m(\u001b[0m\u001b[0;34m(\u001b[0m\u001b[0;34m-\u001b[0m\u001b[0;36m1\u001b[0m\u001b[0;34m,\u001b[0m\u001b[0;34m)\u001b[0m \u001b[0;34m+\u001b[0m \u001b[0;34m(\u001b[0m\u001b[0;36m1\u001b[0m\u001b[0;34m,\u001b[0m\u001b[0;34m)\u001b[0m \u001b[0;34m*\u001b[0m \u001b[0mndim\u001b[0m\u001b[0;34m(\u001b[0m\u001b[0mdelta\u001b[0m\u001b[0;34m)\u001b[0m\u001b[0;34m)\u001b[0m\u001b[0;34m\u001b[0m\n",
       "\u001b[0;34m\u001b[0m    \u001b[0;31m# In-place multiplication y *= delta/div is faster, but prevents the multiplicant\u001b[0m\u001b[0;34m\u001b[0m\n",
       "\u001b[0;34m\u001b[0m    \u001b[0;31m# from overriding what class is produced, and thus prevents, e.g. use of Quantities,\u001b[0m\u001b[0;34m\u001b[0m\n",
       "\u001b[0;34m\u001b[0m    \u001b[0;31m# see gh-7142. Hence, we multiply in place only for standard scalar types.\u001b[0m\u001b[0;34m\u001b[0m\n",
       "\u001b[0;34m\u001b[0m    \u001b[0;32mif\u001b[0m \u001b[0mdiv\u001b[0m \u001b[0;34m>\u001b[0m \u001b[0;36m0\u001b[0m\u001b[0;34m:\u001b[0m\u001b[0;34m\u001b[0m\n",
       "\u001b[0;34m\u001b[0m        \u001b[0m_mult_inplace\u001b[0m \u001b[0;34m=\u001b[0m \u001b[0m_nx\u001b[0m\u001b[0;34m.\u001b[0m\u001b[0misscalar\u001b[0m\u001b[0;34m(\u001b[0m\u001b[0mdelta\u001b[0m\u001b[0;34m)\u001b[0m\u001b[0;34m\u001b[0m\n",
       "\u001b[0;34m\u001b[0m        \u001b[0mstep\u001b[0m \u001b[0;34m=\u001b[0m \u001b[0mdelta\u001b[0m \u001b[0;34m/\u001b[0m \u001b[0mdiv\u001b[0m\u001b[0;34m\u001b[0m\n",
       "\u001b[0;34m\u001b[0m        \u001b[0many_step_zero\u001b[0m \u001b[0;34m=\u001b[0m \u001b[0;34m(\u001b[0m\u001b[0;34m\u001b[0m\n",
       "\u001b[0;34m\u001b[0m            \u001b[0mstep\u001b[0m \u001b[0;34m==\u001b[0m \u001b[0;36m0\u001b[0m \u001b[0;32mif\u001b[0m \u001b[0m_mult_inplace\u001b[0m \u001b[0;32melse\u001b[0m \u001b[0m_nx\u001b[0m\u001b[0;34m.\u001b[0m\u001b[0masanyarray\u001b[0m\u001b[0;34m(\u001b[0m\u001b[0mstep\u001b[0m \u001b[0;34m==\u001b[0m \u001b[0;36m0\u001b[0m\u001b[0;34m)\u001b[0m\u001b[0;34m.\u001b[0m\u001b[0many\u001b[0m\u001b[0;34m(\u001b[0m\u001b[0;34m)\u001b[0m\u001b[0;34m)\u001b[0m\u001b[0;34m\u001b[0m\n",
       "\u001b[0;34m\u001b[0m        \u001b[0;32mif\u001b[0m \u001b[0many_step_zero\u001b[0m\u001b[0;34m:\u001b[0m\u001b[0;34m\u001b[0m\n",
       "\u001b[0;34m\u001b[0m            \u001b[0;31m# Special handling for denormal numbers, gh-5437\u001b[0m\u001b[0;34m\u001b[0m\n",
       "\u001b[0;34m\u001b[0m            \u001b[0my\u001b[0m \u001b[0;34m/=\u001b[0m \u001b[0mdiv\u001b[0m\u001b[0;34m\u001b[0m\n",
       "\u001b[0;34m\u001b[0m            \u001b[0;32mif\u001b[0m \u001b[0m_mult_inplace\u001b[0m\u001b[0;34m:\u001b[0m\u001b[0;34m\u001b[0m\n",
       "\u001b[0;34m\u001b[0m                \u001b[0my\u001b[0m \u001b[0;34m*=\u001b[0m \u001b[0mdelta\u001b[0m\u001b[0;34m\u001b[0m\n",
       "\u001b[0;34m\u001b[0m            \u001b[0;32melse\u001b[0m\u001b[0;34m:\u001b[0m\u001b[0;34m\u001b[0m\n",
       "\u001b[0;34m\u001b[0m                \u001b[0my\u001b[0m \u001b[0;34m=\u001b[0m \u001b[0my\u001b[0m \u001b[0;34m*\u001b[0m \u001b[0mdelta\u001b[0m\u001b[0;34m\u001b[0m\n",
       "\u001b[0;34m\u001b[0m        \u001b[0;32melse\u001b[0m\u001b[0;34m:\u001b[0m\u001b[0;34m\u001b[0m\n",
       "\u001b[0;34m\u001b[0m            \u001b[0;32mif\u001b[0m \u001b[0m_mult_inplace\u001b[0m\u001b[0;34m:\u001b[0m\u001b[0;34m\u001b[0m\n",
       "\u001b[0;34m\u001b[0m                \u001b[0my\u001b[0m \u001b[0;34m*=\u001b[0m \u001b[0mstep\u001b[0m\u001b[0;34m\u001b[0m\n",
       "\u001b[0;34m\u001b[0m            \u001b[0;32melse\u001b[0m\u001b[0;34m:\u001b[0m\u001b[0;34m\u001b[0m\n",
       "\u001b[0;34m\u001b[0m                \u001b[0my\u001b[0m \u001b[0;34m=\u001b[0m \u001b[0my\u001b[0m \u001b[0;34m*\u001b[0m \u001b[0mstep\u001b[0m\u001b[0;34m\u001b[0m\n",
       "\u001b[0;34m\u001b[0m    \u001b[0;32melse\u001b[0m\u001b[0;34m:\u001b[0m\u001b[0;34m\u001b[0m\n",
       "\u001b[0;34m\u001b[0m        \u001b[0;31m# sequences with 0 items or 1 item with endpoint=True (i.e. div <= 0)\u001b[0m\u001b[0;34m\u001b[0m\n",
       "\u001b[0;34m\u001b[0m        \u001b[0;31m# have an undefined step\u001b[0m\u001b[0;34m\u001b[0m\n",
       "\u001b[0;34m\u001b[0m        \u001b[0mstep\u001b[0m \u001b[0;34m=\u001b[0m \u001b[0mNaN\u001b[0m\u001b[0;34m\u001b[0m\n",
       "\u001b[0;34m\u001b[0m        \u001b[0;31m# Multiply with delta to allow possible override of output class.\u001b[0m\u001b[0;34m\u001b[0m\n",
       "\u001b[0;34m\u001b[0m        \u001b[0my\u001b[0m \u001b[0;34m=\u001b[0m \u001b[0my\u001b[0m \u001b[0;34m*\u001b[0m \u001b[0mdelta\u001b[0m\u001b[0;34m\u001b[0m\n",
       "\u001b[0;34m\u001b[0m\u001b[0;34m\u001b[0m\n",
       "\u001b[0;34m\u001b[0m    \u001b[0my\u001b[0m \u001b[0;34m+=\u001b[0m \u001b[0mstart\u001b[0m\u001b[0;34m\u001b[0m\n",
       "\u001b[0;34m\u001b[0m\u001b[0;34m\u001b[0m\n",
       "\u001b[0;34m\u001b[0m    \u001b[0;32mif\u001b[0m \u001b[0mendpoint\u001b[0m \u001b[0;32mand\u001b[0m \u001b[0mnum\u001b[0m \u001b[0;34m>\u001b[0m \u001b[0;36m1\u001b[0m\u001b[0;34m:\u001b[0m\u001b[0;34m\u001b[0m\n",
       "\u001b[0;34m\u001b[0m        \u001b[0my\u001b[0m\u001b[0;34m[\u001b[0m\u001b[0;34m-\u001b[0m\u001b[0;36m1\u001b[0m\u001b[0;34m,\u001b[0m \u001b[0;34m...\u001b[0m\u001b[0;34m]\u001b[0m \u001b[0;34m=\u001b[0m \u001b[0mstop\u001b[0m\u001b[0;34m\u001b[0m\n",
       "\u001b[0;34m\u001b[0m\u001b[0;34m\u001b[0m\n",
       "\u001b[0;34m\u001b[0m    \u001b[0;32mif\u001b[0m \u001b[0maxis\u001b[0m \u001b[0;34m!=\u001b[0m \u001b[0;36m0\u001b[0m\u001b[0;34m:\u001b[0m\u001b[0;34m\u001b[0m\n",
       "\u001b[0;34m\u001b[0m        \u001b[0my\u001b[0m \u001b[0;34m=\u001b[0m \u001b[0m_nx\u001b[0m\u001b[0;34m.\u001b[0m\u001b[0mmoveaxis\u001b[0m\u001b[0;34m(\u001b[0m\u001b[0my\u001b[0m\u001b[0;34m,\u001b[0m \u001b[0;36m0\u001b[0m\u001b[0;34m,\u001b[0m \u001b[0maxis\u001b[0m\u001b[0;34m)\u001b[0m\u001b[0;34m\u001b[0m\n",
       "\u001b[0;34m\u001b[0m\u001b[0;34m\u001b[0m\n",
       "\u001b[0;34m\u001b[0m    \u001b[0;32mif\u001b[0m \u001b[0minteger_dtype\u001b[0m\u001b[0;34m:\u001b[0m\u001b[0;34m\u001b[0m\n",
       "\u001b[0;34m\u001b[0m        \u001b[0m_nx\u001b[0m\u001b[0;34m.\u001b[0m\u001b[0mfloor\u001b[0m\u001b[0;34m(\u001b[0m\u001b[0my\u001b[0m\u001b[0;34m,\u001b[0m \u001b[0mout\u001b[0m\u001b[0;34m=\u001b[0m\u001b[0my\u001b[0m\u001b[0;34m)\u001b[0m\u001b[0;34m\u001b[0m\n",
       "\u001b[0;34m\u001b[0m\u001b[0;34m\u001b[0m\n",
       "\u001b[0;34m\u001b[0m    \u001b[0;32mif\u001b[0m \u001b[0mretstep\u001b[0m\u001b[0;34m:\u001b[0m\u001b[0;34m\u001b[0m\n",
       "\u001b[0;34m\u001b[0m        \u001b[0;32mreturn\u001b[0m \u001b[0my\u001b[0m\u001b[0;34m.\u001b[0m\u001b[0mastype\u001b[0m\u001b[0;34m(\u001b[0m\u001b[0mdtype\u001b[0m\u001b[0;34m,\u001b[0m \u001b[0mcopy\u001b[0m\u001b[0;34m=\u001b[0m\u001b[0;32mFalse\u001b[0m\u001b[0;34m)\u001b[0m\u001b[0;34m,\u001b[0m \u001b[0mstep\u001b[0m\u001b[0;34m\u001b[0m\n",
       "\u001b[0;34m\u001b[0m    \u001b[0;32melse\u001b[0m\u001b[0;34m:\u001b[0m\u001b[0;34m\u001b[0m\n",
       "\u001b[0;34m\u001b[0m        \u001b[0;32mreturn\u001b[0m \u001b[0my\u001b[0m\u001b[0;34m.\u001b[0m\u001b[0mastype\u001b[0m\u001b[0;34m(\u001b[0m\u001b[0mdtype\u001b[0m\u001b[0;34m,\u001b[0m \u001b[0mcopy\u001b[0m\u001b[0;34m=\u001b[0m\u001b[0;32mFalse\u001b[0m\u001b[0;34m)\u001b[0m\u001b[0;34m\u001b[0m\u001b[0;34m\u001b[0m\u001b[0m\n",
       "\u001b[0;31mClass docstring:\u001b[0m\n",
       "Class to wrap functions with checks for __array_function__ overrides.\n",
       "\n",
       "All arguments are required, and can only be passed by position.\n",
       "\n",
       "Parameters\n",
       "----------\n",
       "dispatcher : function or None\n",
       "    The dispatcher function that returns a single sequence-like object\n",
       "    of all arguments relevant.  It must have the same signature (except\n",
       "    the default values) as the actual implementation.\n",
       "    If ``None``, this is a ``like=`` dispatcher and the\n",
       "    ``_ArrayFunctionDispatcher`` must be called with ``like`` as the\n",
       "    first (additional and positional) argument.\n",
       "implementation : function\n",
       "    Function that implements the operation on NumPy arrays without\n",
       "    overrides.  Arguments passed calling the ``_ArrayFunctionDispatcher``\n",
       "    will be forwarded to this (and the ``dispatcher``) as if using\n",
       "    ``*args, **kwargs``.\n",
       "\n",
       "Attributes\n",
       "----------\n",
       "_implementation : function\n",
       "    The original implementation passed in."
      ]
     },
     "metadata": {},
     "output_type": "display_data"
    }
   ],
   "source": [
    "## despliega la ayuda y el código de la función\n",
    "np.linspace??"
   ]
  },
  {
   "cell_type": "markdown",
   "metadata": {},
   "source": [
    "<img src='../figuras/ayuda_codigo_funcion.png'/>"
   ]
  },
  {
   "cell_type": "markdown",
   "metadata": {},
   "source": [
    "## Magics\n",
    "\n",
    "- % $\\to$ inline magic\n",
    "- %% $\\to$ cell magic"
   ]
  },
  {
   "cell_type": "code",
   "execution_count": 6,
   "metadata": {},
   "outputs": [
    {
     "data": {
      "application/json": {
       "cell": {
        "!": "OSMagics",
        "HTML": "Other",
        "SVG": "Other",
        "bash": "Other",
        "capture": "ExecutionMagics",
        "code_wrap": "ExecutionMagics",
        "debug": "ExecutionMagics",
        "file": "Other",
        "html": "DisplayMagics",
        "javascript": "DisplayMagics",
        "js": "DisplayMagics",
        "latex": "DisplayMagics",
        "markdown": "DisplayMagics",
        "perl": "Other",
        "prun": "ExecutionMagics",
        "pypy": "Other",
        "python": "Other",
        "python2": "Other",
        "python3": "Other",
        "ruby": "Other",
        "script": "ScriptMagics",
        "sh": "Other",
        "svg": "DisplayMagics",
        "sx": "OSMagics",
        "system": "OSMagics",
        "time": "ExecutionMagics",
        "timeit": "ExecutionMagics",
        "writefile": "OSMagics"
       },
       "line": {
        "alias": "OSMagics",
        "alias_magic": "BasicMagics",
        "autoawait": "AsyncMagics",
        "autocall": "AutoMagics",
        "automagic": "AutoMagics",
        "autosave": "KernelMagics",
        "bookmark": "OSMagics",
        "cat": "Other",
        "cd": "OSMagics",
        "clear": "KernelMagics",
        "code_wrap": "ExecutionMagics",
        "colors": "BasicMagics",
        "conda": "PackagingMagics",
        "config": "ConfigMagics",
        "connect_info": "KernelMagics",
        "cp": "Other",
        "debug": "ExecutionMagics",
        "dhist": "OSMagics",
        "dirs": "OSMagics",
        "doctest_mode": "BasicMagics",
        "ed": "Other",
        "edit": "KernelMagics",
        "env": "OSMagics",
        "gui": "BasicMagics",
        "hist": "Other",
        "history": "HistoryMagics",
        "killbgscripts": "ScriptMagics",
        "ldir": "Other",
        "less": "KernelMagics",
        "lf": "Other",
        "lk": "Other",
        "ll": "Other",
        "load": "CodeMagics",
        "load_ext": "ExtensionMagics",
        "loadpy": "CodeMagics",
        "logoff": "LoggingMagics",
        "logon": "LoggingMagics",
        "logstart": "LoggingMagics",
        "logstate": "LoggingMagics",
        "logstop": "LoggingMagics",
        "ls": "Other",
        "lsmagic": "BasicMagics",
        "lx": "Other",
        "macro": "ExecutionMagics",
        "magic": "BasicMagics",
        "mamba": "PackagingMagics",
        "man": "KernelMagics",
        "matplotlib": "PylabMagics",
        "micromamba": "PackagingMagics",
        "mkdir": "Other",
        "more": "KernelMagics",
        "mv": "Other",
        "notebook": "BasicMagics",
        "page": "BasicMagics",
        "pastebin": "CodeMagics",
        "pdb": "ExecutionMagics",
        "pdef": "NamespaceMagics",
        "pdoc": "NamespaceMagics",
        "pfile": "NamespaceMagics",
        "pinfo": "NamespaceMagics",
        "pinfo2": "NamespaceMagics",
        "pip": "PackagingMagics",
        "popd": "OSMagics",
        "pprint": "BasicMagics",
        "precision": "BasicMagics",
        "prun": "ExecutionMagics",
        "psearch": "NamespaceMagics",
        "psource": "NamespaceMagics",
        "pushd": "OSMagics",
        "pwd": "OSMagics",
        "pycat": "OSMagics",
        "pylab": "PylabMagics",
        "qtconsole": "KernelMagics",
        "quickref": "BasicMagics",
        "recall": "HistoryMagics",
        "rehashx": "OSMagics",
        "reload_ext": "ExtensionMagics",
        "rep": "Other",
        "rerun": "HistoryMagics",
        "reset": "NamespaceMagics",
        "reset_selective": "NamespaceMagics",
        "rm": "Other",
        "rmdir": "Other",
        "run": "ExecutionMagics",
        "save": "CodeMagics",
        "sc": "OSMagics",
        "set_env": "OSMagics",
        "store": "StoreMagics",
        "sx": "OSMagics",
        "system": "OSMagics",
        "tb": "ExecutionMagics",
        "time": "ExecutionMagics",
        "timeit": "ExecutionMagics",
        "unalias": "OSMagics",
        "unload_ext": "ExtensionMagics",
        "who": "NamespaceMagics",
        "who_ls": "NamespaceMagics",
        "whos": "NamespaceMagics",
        "xdel": "NamespaceMagics",
        "xmode": "BasicMagics"
       }
      },
      "text/plain": [
       "Available line magics:\n",
       "%alias  %alias_magic  %autoawait  %autocall  %automagic  %autosave  %bookmark  %cat  %cd  %clear  %code_wrap  %colors  %conda  %config  %connect_info  %cp  %debug  %dhist  %dirs  %doctest_mode  %ed  %edit  %env  %gui  %hist  %history  %killbgscripts  %ldir  %less  %lf  %lk  %ll  %load  %load_ext  %loadpy  %logoff  %logon  %logstart  %logstate  %logstop  %ls  %lsmagic  %lx  %macro  %magic  %mamba  %man  %matplotlib  %micromamba  %mkdir  %more  %mv  %notebook  %page  %pastebin  %pdb  %pdef  %pdoc  %pfile  %pinfo  %pinfo2  %pip  %popd  %pprint  %precision  %prun  %psearch  %psource  %pushd  %pwd  %pycat  %pylab  %qtconsole  %quickref  %recall  %rehashx  %reload_ext  %rep  %rerun  %reset  %reset_selective  %rm  %rmdir  %run  %save  %sc  %set_env  %store  %sx  %system  %tb  %time  %timeit  %unalias  %unload_ext  %who  %who_ls  %whos  %xdel  %xmode\n",
       "\n",
       "Available cell magics:\n",
       "%%!  %%HTML  %%SVG  %%bash  %%capture  %%code_wrap  %%debug  %%file  %%html  %%javascript  %%js  %%latex  %%markdown  %%perl  %%prun  %%pypy  %%python  %%python2  %%python3  %%ruby  %%script  %%sh  %%svg  %%sx  %%system  %%time  %%timeit  %%writefile\n",
       "\n",
       "Automagic is ON, % prefix IS NOT needed for line magics."
      ]
     },
     "execution_count": 6,
     "metadata": {},
     "output_type": "execute_result"
    }
   ],
   "source": [
    "%lsmagic"
   ]
  },
  {
   "cell_type": "markdown",
   "metadata": {},
   "source": [
    "## Latex"
   ]
  },
  {
   "cell_type": "code",
   "execution_count": 7,
   "metadata": {},
   "outputs": [
    {
     "data": {
      "text/latex": [
       "\n",
       "Ejemplo cell magic...\n",
       "\n",
       "\\begin{equation}\n",
       "\\oint_S {E_n dA = \\frac{1}{{\\varepsilon _0 }}} Q_\\textrm{inside}\n",
       "\\end{equation}\n"
      ],
      "text/plain": [
       "<IPython.core.display.Latex object>"
      ]
     },
     "metadata": {},
     "output_type": "display_data"
    }
   ],
   "source": [
    "%%latex\n",
    "\n",
    "Ejemplo cell magic...\n",
    "\n",
    "\\begin{equation}\n",
    "\\oint_S {E_n dA = \\frac{1}{{\\varepsilon _0 }}} Q_\\textrm{inside}\n",
    "\\end{equation}"
   ]
  },
  {
   "cell_type": "markdown",
   "metadata": {},
   "source": [
    "## Ejecutar Comandos en el _shell_, usando la tecla !\n",
    "\n"
   ]
  },
  {
   "cell_type": "code",
   "execution_count": 5,
   "metadata": {},
   "outputs": [
    {
     "name": "stdout",
     "output_type": "stream",
     "text": [
      "/Users/wladimir/Documents/Cursos/AprendizajeAutomatico2024/notebooks\n"
     ]
    }
   ],
   "source": [
    "!pip install numpy"
   ]
  },
  {
   "cell_type": "markdown",
   "metadata": {},
   "source": [
    "## IDE para Python"
   ]
  },
  {
   "cell_type": "markdown",
   "metadata": {},
   "source": [
    "### ¿Qué editor usar?\n",
    "\n",
    "Python no exige un editor específico y hay muchos modos y maneras de programar. \n",
    "\n",
    "Un buen editor orientado a Python científico es **Spyder**, que es un entorno integrado (editor + ayuda + consola interactiva)\n",
    "\n",
    "<img src=\"../figuras/spyder.png\" />"
   ]
  },
  {
   "cell_type": "markdown",
   "metadata": {},
   "source": [
    "También existe un IDE para python llamado [PyCharm](https://www.jetbrains.com/pycharm/)\n",
    "\n",
    "<img src=\"../figuras/PyCharm.png\" />"
   ]
  },
  {
   "cell_type": "markdown",
   "metadata": {},
   "source": [
    "Tambien se puede utilizar [Visual Studio Code](https://code.visualstudio.com/). En el proceso de instalación de Anaconda preguntará si se quiere instalar también el Visual Studio Code\n",
    "\n",
    "<img src=\"../figuras/VisualStudioCode.png\" />"
   ]
  },
  {
   "cell_type": "markdown",
   "metadata": {},
   "source": [
    "Python es un lenguaje de programación multiparadigm de alto nivel, de tipo dinámico. El código de Python a menudo se dice que es casi como pseudocódigo, ya que le permite expresar ideas muy poderosas en muy pocas líneas de código mientras que sea muy legible. Como ejemplo, aquí está una implementación del algoritmo clásico de quicksort en Python:"
   ]
  },
  {
   "cell_type": "code",
   "execution_count": 6,
   "metadata": {},
   "outputs": [
    {
     "name": "stdout",
     "output_type": "stream",
     "text": [
      "[1, 1, 2, 3, 6, 8, 10]\n"
     ]
    }
   ],
   "source": [
    "def quicksort(arreglo):\n",
    "    if len(arreglo) <= 1:\n",
    "        return arreglo\n",
    "    pivote = arreglo[int(len(arreglo) / 2)]\n",
    "    izquierda = [x for x in arreglo if x < pivote]\n",
    "    medio = [x for x in arreglo if x == pivote]\n",
    "    derecha = [x for x in arreglo if x > pivote]\n",
    "    return quicksort(izquierda) + medio + quicksort(derecha)\n",
    "\n",
    "print (quicksort([3,6,8,10,1,2,1]))"
   ]
  },
  {
   "cell_type": "markdown",
   "metadata": {},
   "source": [
    "### Tipos de datos básicos"
   ]
  },
  {
   "cell_type": "markdown",
   "metadata": {},
   "source": [
    "#### Números"
   ]
  },
  {
   "cell_type": "markdown",
   "metadata": {},
   "source": [
    "Los números enteros y los punto flotante funcionan como se esperaría de otros lenguajes:"
   ]
  },
  {
   "cell_type": "code",
   "execution_count": 6,
   "metadata": {},
   "outputs": [
    {
     "name": "stdout",
     "output_type": "stream",
     "text": [
      "Nombres ordenados: ['Ana', 'Juan', 'Luis', 'María', 'Pedro']\n"
     ]
    }
   ],
   "source": [
    "def ordenar_nombres(lista_nombres):\n",
    "    # Utiliza la función sorted() para ordenar la lista de nombres\n",
    "    nombres_ordenados = sorted(lista_nombres)\n",
    "    return nombres_ordenados\n",
    "\n",
    "# Lista de nombres desordenados\n",
    "nombres = [\"Juan\", \"María\", \"Luis\", \"Ana\", \"Pedro\"]\n",
    "\n",
    "# Llama a la función para ordenar los nombres\n",
    "nombres_ordenados = ordenar_nombres(nombres)\n",
    "\n",
    "# Imprime los nombres ordenados\n",
    "print(\"Nombres ordenados:\", nombres_ordenados)\n"
   ]
  },
  {
   "cell_type": "code",
   "execution_count": 5,
   "metadata": {},
   "outputs": [
    {
     "name": "stdout",
     "output_type": "stream",
     "text": [
      "2\n"
     ]
    },
    {
     "data": {
      "text/plain": [
       "int"
      ]
     },
     "execution_count": 5,
     "metadata": {},
     "output_type": "execute_result"
    }
   ],
   "source": [
    "x = 2\n",
    "print(x)\n",
    "type(x)"
   ]
  },
  {
   "cell_type": "code",
   "execution_count": null,
   "metadata": {},
   "outputs": [],
   "source": [
    "print (x + 1)   # Suma;\n",
    "print (x - 1)   # Resta;\n",
    "print (x * 2)   # Multiplicación;\n",
    "print (x // 2)  # División entera;\n",
    "print (x / 2)   # División punto flotante;\n",
    "print (x % 2)   # Modulo;\n",
    "print (x ** 2)  # Exponenciación;"
   ]
  },
  {
   "cell_type": "code",
   "execution_count": null,
   "metadata": {},
   "outputs": [],
   "source": [
    "x += 1\n",
    "print (x)  # Imprime \"4\"\n",
    "x *= 2\n",
    "print (x)  # Imprime \"8\""
   ]
  },
  {
   "cell_type": "code",
   "execution_count": null,
   "metadata": {},
   "outputs": [],
   "source": [
    "y = 2.5\n",
    "print (type(y)) # Imprime \"<class 'float'>\"\n",
    "print (y, y + 1, y * 2, y ** 2) # Imprime \"2.5 3.5 5.0 6.25\""
   ]
  },
  {
   "cell_type": "code",
   "execution_count": null,
   "metadata": {},
   "outputs": [],
   "source": [
    "(3 + 2j) + (5 - 2j)"
   ]
  },
  {
   "cell_type": "markdown",
   "metadata": {},
   "source": [
    "Tenga en cuenta que a diferencia de muchos idiomas, Python no tiene operadores unarios de incremento (x++) o decremento (x--).\n",
    "\n",
    "Python también tiene tipos incorporados para enteros largos y números complejos; Puede encontrar todos los detalles en la [documentación](https://docs.python.org/3/library/stdtypes.html#numeric-types-int-float-long-complex)."
   ]
  },
  {
   "cell_type": "markdown",
   "metadata": {},
   "source": [
    "#### Booleanos"
   ]
  },
  {
   "cell_type": "markdown",
   "metadata": {},
   "source": [
    "Python implementa todos los operadores habituales para la lógica booleana, pero usa palabras en inglés en lugar de símbolos (`&&`, `||`, etc.):"
   ]
  },
  {
   "cell_type": "code",
   "execution_count": null,
   "metadata": {},
   "outputs": [],
   "source": [
    "t, f = True, False\n",
    "print (type(t)) # Imprime \"<class 'bool'>\""
   ]
  },
  {
   "cell_type": "markdown",
   "metadata": {},
   "source": [
    "Ahora veamos las operaciones:"
   ]
  },
  {
   "cell_type": "code",
   "execution_count": null,
   "metadata": {},
   "outputs": [],
   "source": [
    "print (t and f) # Y Lógico;\n",
    "print (t or f)  # O Lógico;\n",
    "print (not t)   # NO Lógico;\n",
    "print (t != f)  # XOR Lógico;"
   ]
  },
  {
   "cell_type": "markdown",
   "metadata": {},
   "source": [
    "#### Cadena de carácteres (Strings)"
   ]
  },
  {
   "cell_type": "code",
   "execution_count": null,
   "metadata": {},
   "outputs": [],
   "source": [
    "hola = 'hola'   # Los literales de cadenas pueden usar comillas simples\n",
    "mundo = \"mundo\"   # o comillas dobles; no importa.\n",
    "print (hola, len(hola))"
   ]
  },
  {
   "cell_type": "code",
   "execution_count": null,
   "metadata": {},
   "outputs": [],
   "source": [
    "hm = hola + ' ' + mundo  # Concatenación de cadenas\n",
    "print (hm)  # imprime \"hola mundo\""
   ]
  },
  {
   "cell_type": "code",
   "execution_count": null,
   "metadata": {},
   "outputs": [],
   "source": [
    "y = 12\n",
    "hm12 = '%s %s %d' % (hola, mundo, y)  # formatos de cadena estilo sprintf\n",
    "hm12 = f'{hola} {mundo} {y}'\n",
    "print (hm12)  # imprime \"hola mundo 12\"\n",
    "print(f'hola mundo {y}')"
   ]
  },
  {
   "cell_type": "markdown",
   "metadata": {},
   "source": [
    "Los objetos de cadena tienen un montón de métodos útiles; por ejemplo:"
   ]
  },
  {
   "cell_type": "code",
   "execution_count": null,
   "metadata": {},
   "outputs": [],
   "source": [
    "s = \"hola\"\n",
    "print (s.capitalize())  # Capitalizar una cadena; Imprime \"Hola\"\n",
    "print (s.upper())       # Convertir una cadena en mayúsculas; Imprime \"HOLA\"\n",
    "print (s.rjust(7))      # Justificar a la derecha una cadena, relleno con espacios; Imprime \"  hola\"\n",
    "print (s.center(7))     # Centrar una cadena, relleno con espacios; Imprime \" hola \"\n",
    "print (s.replace('l', '(ell)'))  # Reemplazar todas las instancias de una subcadena con otra;\n",
    "                               # Imprime \"ho(ell)a\"\n",
    "print ('  mundo '.strip())  # Elimina los espacios en blanco al inicio y al final; Imprime \"mundo\""
   ]
  },
  {
   "cell_type": "markdown",
   "metadata": {},
   "source": [
    "Puede encontrar una lista de todos los métodos de cadenas en la [documentación](https://docs.python.org/3/library/stdtypes.html#string-methods)."
   ]
  },
  {
   "cell_type": "code",
   "execution_count": 7,
   "metadata": {},
   "outputs": [
    {
     "name": "stdout",
     "output_type": "stream",
     "text": [
      "['2002', '2009', '2016', '2023', '2037', '2044', '2051', '2058', '2072', '2079', '2086', '2093', '2107', '2114', '2121', '2128', '2142', '2149', '2156', '2163', '2177', '2184', '2191', '2198', '2212', '2219', '2226', '2233', '2247', '2254', '2261', '2268', '2282', '2289', '2296', '2303', '2317', '2324', '2331', '2338', '2352', '2359', '2366', '2373', '2387', '2394', '2401', '2408', '2422', '2429', '2436', '2443', '2457', '2464', '2471', '2478', '2492', '2499', '2506', '2513', '2527', '2534', '2541', '2548', '2562', '2569', '2576', '2583', '2597', '2604', '2611', '2618', '2632', '2639', '2646', '2653', '2667', '2674', '2681', '2688', '2702', '2709', '2716', '2723', '2737', '2744', '2751', '2758', '2772', '2779', '2786', '2793', '2807', '2814', '2821', '2828', '2842', '2849', '2856', '2863', '2877', '2884', '2891', '2898', '2912', '2919', '2926', '2933', '2947', '2954', '2961', '2968', '2982', '2989', '2996', '3003', '3017', '3024', '3031', '3038', '3052', '3059', '3066', '3073', '3087', '3094', '3101', '3108', '3122', '3129', '3136', '3143', '3157', '3164', '3171', '3178', '3192', '3199']\n",
      "2002,2009,2016,2023,2037,2044,2051,2058,2072,2079,2086,2093,2107,2114,2121,2128,2142,2149,2156,2163,2177,2184,2191,2198,2212,2219,2226,2233,2247,2254,2261,2268,2282,2289,2296,2303,2317,2324,2331,2338,2352,2359,2366,2373,2387,2394,2401,2408,2422,2429,2436,2443,2457,2464,2471,2478,2492,2499,2506,2513,2527,2534,2541,2548,2562,2569,2576,2583,2597,2604,2611,2618,2632,2639,2646,2653,2667,2674,2681,2688,2702,2709,2716,2723,2737,2744,2751,2758,2772,2779,2786,2793,2807,2814,2821,2828,2842,2849,2856,2863,2877,2884,2891,2898,2912,2919,2926,2933,2947,2954,2961,2968,2982,2989,2996,3003,3017,3024,3031,3038,3052,3059,3066,3073,3087,3094,3101,3108,3122,3129,3136,3143,3157,3164,3171,3178,3192,3199\n"
     ]
    }
   ],
   "source": [
    "l=[]\n",
    "for i in range(2000, 3201):\n",
    "    if (i%7==0) and (i%5!=0):\n",
    "        l.append(str(i))\n",
    "print(l)\n",
    "print(','.join(l))"
   ]
  },
  {
   "cell_type": "markdown",
   "metadata": {},
   "source": [
    "## Contenedores"
   ]
  },
  {
   "cell_type": "markdown",
   "metadata": {},
   "source": [
    "Python incluye varios tipos de contenedores: listas, diccionarios, conjuntos y tuplas."
   ]
  },
  {
   "cell_type": "markdown",
   "metadata": {},
   "source": [
    "### Listas"
   ]
  },
  {
   "cell_type": "markdown",
   "metadata": {},
   "source": [
    "Una lista es el equivalente de Python de una matriz, pero es redimensionable y puede contener elementos de diferentes tipos:"
   ]
  },
  {
   "cell_type": "code",
   "execution_count": 8,
   "metadata": {},
   "outputs": [
    {
     "name": "stdout",
     "output_type": "stream",
     "text": [
      "[3, 1, 2] 2\n",
      "2\n"
     ]
    }
   ],
   "source": [
    "xs = [3, 1, 2]   # Crear una lista\n",
    "print (xs, xs[2])\n",
    "print (xs[-1])   # Los índices negativos cuentan desde el final de la lista; Imprime \"2\""
   ]
  },
  {
   "cell_type": "code",
   "execution_count": 9,
   "metadata": {},
   "outputs": [
    {
     "name": "stdout",
     "output_type": "stream",
     "text": [
      "[3, 1, 'mundo']\n"
     ]
    }
   ],
   "source": [
    "xs[2] = 'mundo'    # Las listas pueden contener elementos de diferentes tipos\n",
    "print (xs)"
   ]
  },
  {
   "cell_type": "code",
   "execution_count": 12,
   "metadata": {},
   "outputs": [
    {
     "name": "stdout",
     "output_type": "stream",
     "text": [
      "[3, 'mundo', 'hola', 'hola']\n"
     ]
    }
   ],
   "source": [
    "xs.append('hola') # Añadir un nuevo elemento al final de la lista\n",
    "print (xs)"
   ]
  },
  {
   "cell_type": "code",
   "execution_count": 14,
   "metadata": {},
   "outputs": [
    {
     "name": "stdout",
     "output_type": "stream",
     "text": [
      "mundo [3, 'hola']\n"
     ]
    }
   ],
   "source": [
    "x = xs.pop(1)     # Elimina y devuelve el último elemento de la lista\n",
    "print (x, xs) "
   ]
  },
  {
   "cell_type": "markdown",
   "metadata": {},
   "source": [
    "Como de costumbre, usted puede encontrar todos los detalles sobre listas en la [documentación](https://docs.python.org/3/tutorial/datastructures.html#more-on-lists)."
   ]
  },
  {
   "cell_type": "markdown",
   "metadata": {},
   "source": [
    "#### Rebanado"
   ]
  },
  {
   "cell_type": "markdown",
   "metadata": {},
   "source": [
    "Además de acceder a los elementos de la lista de uno en uno, Python proporciona sintaxis concisa para acceder a las sublistas; Esto se conoce como rebanar:"
   ]
  },
  {
   "cell_type": "code",
   "execution_count": 15,
   "metadata": {},
   "outputs": [
    {
     "name": "stdout",
     "output_type": "stream",
     "text": [
      "[0, 1, 2, 3, 4]\n",
      "[2, 3]\n",
      "[2, 3, 4]\n",
      "[0, 1]\n",
      "[0, 1, 2, 3, 4]\n",
      "[0, 1, 2, 3]\n",
      "[0, 1, 8, 9, 4]\n"
     ]
    }
   ],
   "source": [
    "nums = [0, 1, 2, 3, 4]\n",
    "print (nums)         # Imprime \"[0, 1, 2, 3, 4]\"\n",
    "print (nums[2:4])    # Obtener una porción del índice 2 al 4 (exclusivo); imprime \"[2, 3]\"\n",
    "print (nums[2:])     # Obtener una porción del índice 2 hasta el final; imprime \"[2, 3, 4]\"\n",
    "print (nums[:2])     # Obtener una porción desde el principio hasta el índice 2 (exclusivo); imprime \"[0, 1]\"\n",
    "print (nums[:])      # Obtener una porción de toda la lista; imprime [\"0, 1, 2, 3, 4]\"\n",
    "print (nums[:-1])    # Los índices de las porciones pueden ser negativos; imprime [\"0, 1, 2, 3]\"\n",
    "nums[2:4] = [8, 9]   # Asignar una nueva sublista a una porción\n",
    "print (nums)         # Imprime \"[0, 1, 8, 9, 4]\""
   ]
  },
  {
   "cell_type": "code",
   "execution_count": 18,
   "metadata": {},
   "outputs": [
    {
     "data": {
      "text/plain": [
       "[-1, 1, 8, 9, 4]"
      ]
     },
     "execution_count": 18,
     "metadata": {},
     "output_type": "execute_result"
    }
   ],
   "source": [
    "nums[0] = -1\n",
    "nums"
   ]
  },
  {
   "cell_type": "markdown",
   "metadata": {},
   "source": [
    "#### Lazos"
   ]
  },
  {
   "cell_type": "markdown",
   "metadata": {},
   "source": [
    "Puedes realizar un lazo sobre los elementos de una lista de esta forma:"
   ]
  },
  {
   "cell_type": "code",
   "execution_count": 19,
   "metadata": {},
   "outputs": [
    {
     "name": "stdout",
     "output_type": "stream",
     "text": [
      "gato\n",
      "perro\n",
      "mono\n"
     ]
    }
   ],
   "source": [
    "animales = ['gato', 'perro', 'mono']\n",
    "for animal in animales:\n",
    "    print (animal)"
   ]
  },
  {
   "cell_type": "code",
   "execution_count": 23,
   "metadata": {},
   "outputs": [
    {
     "name": "stdout",
     "output_type": "stream",
     "text": [
      "5\n",
      "7\n",
      "9\n"
     ]
    }
   ],
   "source": [
    "for i in range(5, 10, 2):\n",
    "    print(i)"
   ]
  },
  {
   "cell_type": "markdown",
   "metadata": {},
   "source": [
    "Si desea tener acceso al índice de cada elemento dentro del cuerpo de un lazo, utilice la función `enumerate` :"
   ]
  },
  {
   "cell_type": "code",
   "execution_count": 21,
   "metadata": {},
   "outputs": [
    {
     "name": "stdout",
     "output_type": "stream",
     "text": [
      "1# gato\n",
      "2# perro\n",
      "3# mono\n"
     ]
    }
   ],
   "source": [
    "animales = ['gato', 'perro', 'mono']\n",
    "for idx, animal in enumerate(animales):\n",
    "    print (f'{idx + 1}# {animal}')"
   ]
  },
  {
   "cell_type": "markdown",
   "metadata": {},
   "source": [
    "#### Listas por comprensión:"
   ]
  },
  {
   "cell_type": "markdown",
   "metadata": {},
   "source": [
    "Al programar, con frecuencia queremos transformar un tipo de datos en otro. Como ejemplo simple, considere el siguiente código que calcula los números cuadrados:"
   ]
  },
  {
   "cell_type": "code",
   "execution_count": 24,
   "metadata": {},
   "outputs": [
    {
     "name": "stdout",
     "output_type": "stream",
     "text": [
      "[0, 1, 4, 9, 16]\n"
     ]
    }
   ],
   "source": [
    "nums = [0, 1, 2, 3, 4]\n",
    "cuadrados = []\n",
    "for x in nums:\n",
    "    cuadrados.append(x ** 2)\n",
    "print (cuadrados)"
   ]
  },
  {
   "cell_type": "markdown",
   "metadata": {},
   "source": [
    "Puede simplificar este código utilizando una listas por compresión:"
   ]
  },
  {
   "cell_type": "code",
   "execution_count": 25,
   "metadata": {},
   "outputs": [
    {
     "data": {
      "text/plain": [
       "[0, 1, 4, 9, 16]"
      ]
     },
     "execution_count": 25,
     "metadata": {},
     "output_type": "execute_result"
    }
   ],
   "source": [
    "nums = [0, 1, 2, 3, 4]\n",
    "cuadrados = [x ** 2 for x in nums]\n",
    "cuadrados"
   ]
  },
  {
   "cell_type": "markdown",
   "metadata": {},
   "source": [
    "Listas por comprensión puede tambien contener condiciones:"
   ]
  },
  {
   "cell_type": "code",
   "execution_count": 26,
   "metadata": {},
   "outputs": [
    {
     "name": "stdout",
     "output_type": "stream",
     "text": [
      "[0, 4, 16]\n"
     ]
    }
   ],
   "source": [
    "nums = [0, 1, 2, 3, 4]\n",
    "cuadrados_pares = [x ** 2 for x in nums if x % 2 == 0]\n",
    "print (cuadrados_pares)"
   ]
  },
  {
   "cell_type": "markdown",
   "metadata": {},
   "source": [
    "### Diccionarios"
   ]
  },
  {
   "cell_type": "markdown",
   "metadata": {},
   "source": [
    "Un diccionario almacena pares (clave, valor) parecidos a un Mapa en Java o un objeto en Javascript. Puedes usarlo así:"
   ]
  },
  {
   "cell_type": "code",
   "execution_count": 27,
   "metadata": {},
   "outputs": [
    {
     "name": "stdout",
     "output_type": "stream",
     "text": [
      "lindo\n",
      "{'gato': 'lindo', 'perro': 'peludo'}\n"
     ]
    }
   ],
   "source": [
    "d = {'gato': 'lindo', 'perro': 'peludo'}  # Crear un nuevo diccionario con algunos datos\n",
    "print (d['gato'])       # Obtener una entrada de un diccionario; imprime \"lindo\"\n",
    "print (d)  # Compruebe si un diccionario tiene una clave dada; imprime \"True\""
   ]
  },
  {
   "cell_type": "code",
   "execution_count": 28,
   "metadata": {},
   "outputs": [
    {
     "name": "stdout",
     "output_type": "stream",
     "text": [
      "mojado\n",
      "{'gato': 'lindo', 'perro': 'peludo', 'pez': 'mojado'}\n",
      "{'gato': 'lindo', 'perro': 'peludo', 'pez': 'seco'}\n"
     ]
    }
   ],
   "source": [
    "d['pez'] = 'mojado' # Agrega o modifica una entrada en un diccionario\n",
    "print (d['pez'])# Imprime \"mojado\"\n",
    "print (d)\n",
    "d['pez'] = 'seco'\n",
    "print (d)"
   ]
  },
  {
   "cell_type": "code",
   "execution_count": 29,
   "metadata": {},
   "outputs": [
    {
     "ename": "KeyError",
     "evalue": "'mono'",
     "output_type": "error",
     "traceback": [
      "\u001b[0;31m---------------------------------------------------------------------------\u001b[0m",
      "\u001b[0;31mKeyError\u001b[0m                                  Traceback (most recent call last)",
      "Cell \u001b[0;32mIn[29], line 1\u001b[0m\n\u001b[0;32m----> 1\u001b[0m \u001b[38;5;28mprint\u001b[39m (\u001b[43md\u001b[49m\u001b[43m[\u001b[49m\u001b[38;5;124;43m'\u001b[39;49m\u001b[38;5;124;43mmono\u001b[39;49m\u001b[38;5;124;43m'\u001b[39;49m\u001b[43m]\u001b[49m)  \u001b[38;5;66;03m# KeyError: 'mono' no es una clave de d\u001b[39;00m\n",
      "\u001b[0;31mKeyError\u001b[0m: 'mono'"
     ]
    }
   ],
   "source": [
    "print (d['mono'])  # KeyError: 'mono' no es una clave de d"
   ]
  },
  {
   "cell_type": "code",
   "execution_count": 30,
   "metadata": {},
   "outputs": [
    {
     "name": "stdout",
     "output_type": "stream",
     "text": [
      "Esa clave no existe\n",
      "seco\n"
     ]
    }
   ],
   "source": [
    "print (d.get('mono', 'Esa clave no existe'))  # Obtener un elemento con un valor predeterminado; imprime \"N / A\"\n",
    "print (d.get('pez', 'N/A'))   # Obtener un elemento con un valor predeterminado; imprime \"mojado\""
   ]
  },
  {
   "cell_type": "code",
   "execution_count": 31,
   "metadata": {},
   "outputs": [
    {
     "name": "stdout",
     "output_type": "stream",
     "text": [
      "N/A\n"
     ]
    }
   ],
   "source": [
    "del d['pez']        # Eliminar un elemento de un diccionario\n",
    "print (d.get('pez', 'N/A')) # \"pez\" ya no es una clave; imprime \"N / A\""
   ]
  },
  {
   "cell_type": "markdown",
   "metadata": {},
   "source": [
    "Puedes encontrar todo lo que necesitas saber sobre diccionarios en la [documentación](https://docs.python.org/3/library/stdtypes.html#dict)."
   ]
  },
  {
   "cell_type": "markdown",
   "metadata": {},
   "source": [
    "Es fácil de iterar sobre las claves en un diccionario:"
   ]
  },
  {
   "cell_type": "code",
   "execution_count": 32,
   "metadata": {},
   "outputs": [
    {
     "name": "stdout",
     "output_type": "stream",
     "text": [
      "Un pajaro tiene 2 patas\n",
      "Un gato tiene 4 patas\n",
      "Un araña tiene 8 patas\n"
     ]
    }
   ],
   "source": [
    "d = {'pajaro': 2, 'gato': 4, 'araña': 8}\n",
    "for animal in d:\n",
    "    patas = d[animal]\n",
    "    print (f'Un {animal} tiene {patas} patas')"
   ]
  },
  {
   "cell_type": "markdown",
   "metadata": {},
   "source": [
    "Si desea acceder a las claves y sus valores correspondientes, utilice el método items:"
   ]
  },
  {
   "cell_type": "code",
   "execution_count": 33,
   "metadata": {},
   "outputs": [
    {
     "name": "stdout",
     "output_type": "stream",
     "text": [
      "Un pajaro tiene 2 patas\n",
      "Un gato tiene 4 patas\n",
      "Un araña tiene 8 patas\n"
     ]
    }
   ],
   "source": [
    "d = {'pajaro': 2, 'gato': 4, 'araña': 8}\n",
    "for animal, patas in d.items():\n",
    "    print (f'Un {animal} tiene {patas} patas')"
   ]
  },
  {
   "cell_type": "code",
   "execution_count": 34,
   "metadata": {},
   "outputs": [
    {
     "data": {
      "text/plain": [
       "31"
      ]
     },
     "execution_count": 34,
     "metadata": {},
     "output_type": "execute_result"
    }
   ],
   "source": [
    "edad = {'Jose': 31, 'Luis': 23}\n",
    "edad_jose = edad['Jose']\n",
    "edad_jose"
   ]
  },
  {
   "cell_type": "markdown",
   "metadata": {},
   "source": [
    "Diccionario por comprensión: Estos son similares a la lista por comprensión, pero le permiten construir fácilmente diccionarios. Por ejemplo:"
   ]
  },
  {
   "cell_type": "code",
   "execution_count": 35,
   "metadata": {},
   "outputs": [
    {
     "name": "stdout",
     "output_type": "stream",
     "text": [
      "{0: 0, 2: 4, 4: 16}\n"
     ]
    }
   ],
   "source": [
    "nums = [0, 1, 2, 3, 4]\n",
    "cuadrados_numeros_pares = {x: x ** 2 for x in nums if x % 2 == 0}\n",
    "print (cuadrados_numeros_pares)"
   ]
  },
  {
   "cell_type": "markdown",
   "metadata": {},
   "source": [
    "### Conjuntos"
   ]
  },
  {
   "cell_type": "markdown",
   "metadata": {},
   "source": [
    "Un conjunto es una colección desordenada de elementos distintos. Como ejemplo simple, considere lo siguiente:"
   ]
  },
  {
   "cell_type": "code",
   "execution_count": 36,
   "metadata": {},
   "outputs": [
    {
     "name": "stdout",
     "output_type": "stream",
     "text": [
      "True\n",
      "False\n"
     ]
    }
   ],
   "source": [
    "animales = {'gato', 'perro'}\n",
    "print ('gato' in animales)   # Compruebe si un elemento está en un conjunto; imprime \"True\"\n",
    "print ('pez' in animales)    # imprime \"False\"\n"
   ]
  },
  {
   "cell_type": "code",
   "execution_count": 37,
   "metadata": {},
   "outputs": [
    {
     "name": "stdout",
     "output_type": "stream",
     "text": [
      "True\n",
      "3\n"
     ]
    }
   ],
   "source": [
    "animales.add('pez')       # Agregar un elemento a un conjunto\n",
    "print ('pez' in animales)\n",
    "print (len(animales))     # Número de elementos en un conjunto;"
   ]
  },
  {
   "cell_type": "code",
   "execution_count": 38,
   "metadata": {},
   "outputs": [
    {
     "name": "stdout",
     "output_type": "stream",
     "text": [
      "3\n",
      "2\n"
     ]
    },
    {
     "data": {
      "text/plain": [
       "{'perro', 'pez'}"
      ]
     },
     "execution_count": 38,
     "metadata": {},
     "output_type": "execute_result"
    }
   ],
   "source": [
    "animales.add('gato')       # Agregar un elemento que ya está en el conjunto no hace nada\n",
    "print (len(animales))       \n",
    "animales.remove('gato')    # Eliminar un elemento de un conjunto\n",
    "print (len(animales))    \n",
    "animales"
   ]
  },
  {
   "cell_type": "markdown",
   "metadata": {},
   "source": [
    "_Lazos_: Iterar sobre un conjunto tiene la misma sintaxis que iterar sobre una lista; Sin embargo, puesto que los conjuntos están desordenados, no se pueden hacer suposiciones acerca del orden en el que se visitan los elementos del conjunto:"
   ]
  },
  {
   "cell_type": "code",
   "execution_count": 39,
   "metadata": {},
   "outputs": [
    {
     "name": "stdout",
     "output_type": "stream",
     "text": [
      "1# gato\n",
      "2# perro\n",
      "3# pez\n"
     ]
    }
   ],
   "source": [
    "animales = {'gato', 'perro', 'pez'}\n",
    "for idx, animal in enumerate(animales):\n",
    "    print (f'{idx + 1}# {animal}')\n",
    "# Imprime \"#1: pez\", \"#2: gato\", \"#3: perro\""
   ]
  },
  {
   "cell_type": "markdown",
   "metadata": {},
   "source": [
    "Conjunto por comprensión: Al igual que las listas y los diccionarios, podemos construir fácilmente conjuntos utilizando conjuntos dpor comprensión:"
   ]
  },
  {
   "cell_type": "code",
   "execution_count": 40,
   "metadata": {},
   "outputs": [
    {
     "name": "stdout",
     "output_type": "stream",
     "text": [
      "{0, 1, 2, 3, 4, 5}\n"
     ]
    }
   ],
   "source": [
    "from math import sqrt\n",
    "print ({int(sqrt(x)) for x in range(30)})"
   ]
  },
  {
   "cell_type": "markdown",
   "metadata": {},
   "source": [
    "### Tuplas"
   ]
  },
  {
   "cell_type": "markdown",
   "metadata": {},
   "source": [
    "Una tupla es una lista ordenada (inmutable) de valores. Una tupla es en muchos aspectos similar a una lista; Una de las diferencias más importantes es que las tuplas se pueden utilizar como claves en diccionarios y como elementos de conjuntos, mientras que las listas no pueden. Aquí hay un ejemplo trivial:"
   ]
  },
  {
   "cell_type": "code",
   "execution_count": 41,
   "metadata": {},
   "outputs": [
    {
     "name": "stdout",
     "output_type": "stream",
     "text": [
      "<class 'tuple'>\n",
      "{(0, 1): 0, (1, 2): 1, (2, 3): 2, (3, 4): 3, (4, 5): 4, (5, 6): 5, (6, 7): 6, (7, 8): 7, (8, 9): 8, (9, 10): 9}\n",
      "1\n"
     ]
    }
   ],
   "source": [
    "d = {(x, x + 1): x for x in range(10)}  # Crear un diccionario con claves de tupla\n",
    "t = (5, 6)       # Crear una tupla\n",
    "print (type(t))\n",
    "print (d)       \n",
    "print (d[(1, 2)])"
   ]
  },
  {
   "cell_type": "code",
   "execution_count": 42,
   "metadata": {},
   "outputs": [
    {
     "ename": "TypeError",
     "evalue": "'tuple' object does not support item assignment",
     "output_type": "error",
     "traceback": [
      "\u001b[0;31m---------------------------------------------------------------------------\u001b[0m",
      "\u001b[0;31mTypeError\u001b[0m                                 Traceback (most recent call last)",
      "Cell \u001b[0;32mIn[42], line 1\u001b[0m\n\u001b[0;32m----> 1\u001b[0m \u001b[43mt\u001b[49m\u001b[43m[\u001b[49m\u001b[38;5;241;43m1\u001b[39;49m\u001b[43m]\u001b[49m \u001b[38;5;241m=\u001b[39m \u001b[38;5;241m7\u001b[39m\n",
      "\u001b[0;31mTypeError\u001b[0m: 'tuple' object does not support item assignment"
     ]
    }
   ],
   "source": [
    "t[1] = 7"
   ]
  },
  {
   "cell_type": "markdown",
   "metadata": {},
   "source": [
    "## Funciones"
   ]
  },
  {
   "cell_type": "markdown",
   "metadata": {},
   "source": [
    "Las funciones de Python se definen mediante la palabra clave `def`. Esta es la sintaxis básica:\n",
    "\n",
    "```python\n",
    "\n",
    "def NombreFuncion(arg1, arg2,... argN):\n",
    "\n",
    "    ''' Documentación'''\n",
    "\n",
    "    sentencias\n",
    "\n",
    "    return <valor>\n",
    "```"
   ]
  },
  {
   "cell_type": "markdown",
   "metadata": {},
   "source": [
    "Ejemplo:"
   ]
  },
  {
   "cell_type": "code",
   "execution_count": 43,
   "metadata": {},
   "outputs": [
    {
     "name": "stdout",
     "output_type": "stream",
     "text": [
      "negativo\n",
      "cero\n",
      "positivo\n"
     ]
    }
   ],
   "source": [
    "def signo(x):\n",
    "    if x > 0:\n",
    "        return 'positivo'\n",
    "    elif x < 0:\n",
    "        return 'negativo'\n",
    "    else:\n",
    "        return 'cero'\n",
    "\n",
    "for x in [-1, 0, 1]:\n",
    "    print (signo(x))"
   ]
  },
  {
   "cell_type": "markdown",
   "metadata": {},
   "source": [
    "Definiremos a menudo las funciones para que tomen argumentos opcionales, como esto:"
   ]
  },
  {
   "cell_type": "code",
   "execution_count": 44,
   "metadata": {},
   "outputs": [
    {
     "name": "stdout",
     "output_type": "stream",
     "text": [
      "Hola, Juan!\n",
      "HOLA, MANUEL\n"
     ]
    }
   ],
   "source": [
    "def hola(nombre, gritar=False):\n",
    "    if gritar:\n",
    "        print ('HOLA, %s' % nombre.upper())\n",
    "    else:\n",
    "        print ('Hola, %s!' % nombre)\n",
    "\n",
    "hola('Juan')\n",
    "hola('Manuel', True)"
   ]
  },
  {
   "cell_type": "markdown",
   "metadata": {},
   "source": [
    "Si no se conoce el número de argumentos que una función debe aceptar, entonces se usa un símbolo de asterisco antes del argumento"
   ]
  },
  {
   "cell_type": "code",
   "execution_count": 45,
   "metadata": {},
   "outputs": [],
   "source": [
    "def sumar_n(*args):\n",
    "    res = 0\n",
    "    reslist = []\n",
    "    for i in args:\n",
    "        reslist.append(i)\n",
    "    print(reslist)\n",
    "    return sum(reslist)"
   ]
  },
  {
   "cell_type": "code",
   "execution_count": 47,
   "metadata": {},
   "outputs": [
    {
     "name": "stdout",
     "output_type": "stream",
     "text": [
      "[1, 2, 3, 4, 5, 6, 7]\n"
     ]
    },
    {
     "data": {
      "text/plain": [
       "28"
      ]
     },
     "execution_count": 47,
     "metadata": {},
     "output_type": "execute_result"
    }
   ],
   "source": [
    "sumar_n(1,2,3,4,5,6,7)"
   ]
  },
  {
   "cell_type": "markdown",
   "metadata": {},
   "source": [
    "#### Funciones lambda\n",
    "\n",
    "Estas son funciones pequeñas que no están definidas con ningún nombre y llevan una sola expresión cuyo resultado se devuelve. Las funciones de Lambda son muy útiles cuando se opera con listas. Estas funciones están definidas por la palabra clave lambda seguida de las variables, dos puntos y la expresión respectiva."
   ]
  },
  {
   "cell_type": "code",
   "execution_count": 1,
   "metadata": {},
   "outputs": [
    {
     "data": {
      "text/plain": [
       "<function __main__.<lambda>(x)>"
      ]
     },
     "execution_count": 1,
     "metadata": {},
     "output_type": "execute_result"
    }
   ],
   "source": [
    "lambda x: x * x"
   ]
  },
  {
   "cell_type": "markdown",
   "metadata": {},
   "source": [
    "Las funciones lambda se pueden invocar en el momento de definirlas:"
   ]
  },
  {
   "cell_type": "code",
   "execution_count": 2,
   "metadata": {},
   "outputs": [
    {
     "data": {
      "text/plain": [
       "25"
      ]
     },
     "execution_count": 2,
     "metadata": {},
     "output_type": "execute_result"
    }
   ],
   "source": [
    "(lambda x: x * x) (5)"
   ]
  },
  {
   "cell_type": "markdown",
   "metadata": {},
   "source": [
    "Tambien se pueden asignar a una variable:"
   ]
  },
  {
   "cell_type": "code",
   "execution_count": 3,
   "metadata": {},
   "outputs": [
    {
     "data": {
      "text/plain": [
       "64"
      ]
     },
     "execution_count": 3,
     "metadata": {},
     "output_type": "execute_result"
    }
   ],
   "source": [
    "z = lambda x: x * x\n",
    "z(8)"
   ]
  },
  {
   "cell_type": "markdown",
   "metadata": {},
   "source": [
    "### Función `map`\n",
    "\n",
    "La función `map()` básicamente ejecuta la función que se define para cada elemento de la lista por separado."
   ]
  },
  {
   "cell_type": "code",
   "execution_count": 30,
   "metadata": {},
   "outputs": [
    {
     "data": {
      "text/plain": [
       "[3, 4, 5, 6, 7, 8, 9, 10, 11]"
      ]
     },
     "execution_count": 30,
     "metadata": {},
     "output_type": "execute_result"
    }
   ],
   "source": [
    "lista1 = [1,2,3,4,5,6,7,8,9]\n",
    "eg = map(lambda x:x+2, lista1)\n",
    "list(eg)"
   ]
  },
  {
   "cell_type": "code",
   "execution_count": 31,
   "metadata": {},
   "outputs": [
    {
     "data": {
      "text/plain": [
       "[3, 4, 5, 6, 7, 8, 9, 10, 11]"
      ]
     },
     "execution_count": 31,
     "metadata": {},
     "output_type": "execute_result"
    }
   ],
   "source": [
    "[x + 2 for x in lista1]"
   ]
  },
  {
   "cell_type": "code",
   "execution_count": 32,
   "metadata": {},
   "outputs": [
    {
     "data": {
      "text/plain": [
       "[10, 10, 10, 10, 10, 10, 10, 10, 10]"
      ]
     },
     "execution_count": 32,
     "metadata": {},
     "output_type": "execute_result"
    }
   ],
   "source": [
    "lista2 = [9,8,7,6,5,4,3,2,1]\n",
    "eg2 = map(lambda x,y:x+y, lista1,lista2)\n",
    "list(eg2)"
   ]
  },
  {
   "cell_type": "markdown",
   "metadata": {},
   "source": [
    "### Función `filter`\n",
    "\n",
    "La función `filter()` se utiliza para filtrar los valores en una lista. Tenga en cuenta que la función `filter()` devuelve el resultado como un objeto `filter`."
   ]
  },
  {
   "cell_type": "markdown",
   "metadata": {},
   "source": [
    "Obtener los elementos menores que 5:"
   ]
  },
  {
   "cell_type": "code",
   "execution_count": 7,
   "metadata": {},
   "outputs": [
    {
     "data": {
      "text/plain": [
       "<filter at 0x103e116c0>"
      ]
     },
     "execution_count": 7,
     "metadata": {},
     "output_type": "execute_result"
    }
   ],
   "source": [
    "filter(lambda x:x<5,lista1)"
   ]
  },
  {
   "cell_type": "markdown",
   "metadata": {},
   "source": [
    "Para obtener la lista se debe pasar el objeto `filter` a la función `list()`"
   ]
  },
  {
   "cell_type": "code",
   "execution_count": 8,
   "metadata": {},
   "outputs": [
    {
     "data": {
      "text/plain": [
       "[1, 2, 3, 4]"
      ]
     },
     "execution_count": 8,
     "metadata": {},
     "output_type": "execute_result"
    }
   ],
   "source": [
    "list(filter(lambda x:x<5,lista1))"
   ]
  },
  {
   "cell_type": "markdown",
   "metadata": {},
   "source": [
    "Considere la función básica `range` de Python:"
   ]
  },
  {
   "cell_type": "code",
   "execution_count": 33,
   "metadata": {},
   "outputs": [
    {
     "name": "stdout",
     "output_type": "stream",
     "text": [
      "0\n",
      "1\n",
      "2\n"
     ]
    }
   ],
   "source": [
    "for i in range(3): \n",
    "    print(i)"
   ]
  },
  {
   "cell_type": "markdown",
   "metadata": {},
   "source": [
    "### Definir nuestro propio iterable"
   ]
  },
  {
   "cell_type": "code",
   "execution_count": 10,
   "metadata": {},
   "outputs": [],
   "source": [
    "class fib_iterator:\n",
    "    \"\"\"Un iterador sobre una parte de la secuencia de Fibonacci.\"\"\"\n",
    "\n",
    "    def __init__(self, limite, semilla1=1, semilla2=1):\n",
    "        self.limite = limite\n",
    "        self.previo = semilla1\n",
    "        self.actual = semilla2\n",
    "\n",
    "    def __iter__(self):\n",
    "        return self\n",
    "\n",
    "    def __next__(self):\n",
    "        (self.previo, self.actual) = (self.actual, self.previo + self.actual)\n",
    "        self.limite -= 1\n",
    "        if self.limite < 0:\n",
    "            raise StopIteration()\n",
    "        return self.actual"
   ]
  },
  {
   "cell_type": "code",
   "execution_count": 34,
   "metadata": {},
   "outputs": [
    {
     "data": {
      "text/plain": [
       "2"
      ]
     },
     "execution_count": 34,
     "metadata": {},
     "output_type": "execute_result"
    }
   ],
   "source": [
    "x = fib_iterator(5, semilla1=1, semilla2=1)\n",
    "next(x)"
   ]
  },
  {
   "cell_type": "code",
   "execution_count": 35,
   "metadata": {},
   "outputs": [
    {
     "data": {
      "text/plain": [
       "3"
      ]
     },
     "execution_count": 35,
     "metadata": {},
     "output_type": "execute_result"
    }
   ],
   "source": [
    "next(x)"
   ]
  },
  {
   "cell_type": "code",
   "execution_count": 36,
   "metadata": {},
   "outputs": [
    {
     "data": {
      "text/plain": [
       "5"
      ]
     },
     "execution_count": 36,
     "metadata": {},
     "output_type": "execute_result"
    }
   ],
   "source": [
    "next(x)"
   ]
  },
  {
   "cell_type": "code",
   "execution_count": 37,
   "metadata": {},
   "outputs": [
    {
     "name": "stdout",
     "output_type": "stream",
     "text": [
      "2\n",
      "3\n",
      "5\n",
      "8\n",
      "13\n",
      "21\n",
      "34\n",
      "55\n"
     ]
    }
   ],
   "source": [
    "for x in fib_iterator(8):\n",
    "    print(x)"
   ]
  },
  {
   "cell_type": "code",
   "execution_count": 38,
   "metadata": {},
   "outputs": [
    {
     "data": {
      "text/plain": [
       "297924218508143360336882819981631900915673130543819759032778173440536722190488904520034508163846345539055096533885943242814978469042830417586260359446115245634668393210192357419233828310479227982326069668668250"
      ]
     },
     "execution_count": 38,
     "metadata": {},
     "output_type": "execute_result"
    }
   ],
   "source": [
    "sum(fib_iterator(1000))"
   ]
  },
  {
   "cell_type": "code",
   "execution_count": 45,
   "metadata": {},
   "outputs": [
    {
     "data": {
      "text/plain": [
       "map"
      ]
     },
     "execution_count": 45,
     "metadata": {},
     "output_type": "execute_result"
    }
   ],
   "source": [
    "x = [1, 2, 3, 4, 5, 6]\n",
    "y = map(lambda i: i**2, x)\n",
    "type(y)"
   ]
  },
  {
   "cell_type": "code",
   "execution_count": 41,
   "metadata": {},
   "outputs": [
    {
     "name": "stdout",
     "output_type": "stream",
     "text": [
      "1\n",
      "4\n",
      "9\n",
      "16\n",
      "25\n",
      "36\n"
     ]
    }
   ],
   "source": [
    "for i in y:\n",
    "    print(i)"
   ]
  },
  {
   "cell_type": "code",
   "execution_count": 46,
   "metadata": {},
   "outputs": [
    {
     "name": "stdout",
     "output_type": "stream",
     "text": [
      "1\n",
      "4\n",
      "9\n",
      "16\n",
      "25\n",
      "36\n"
     ]
    }
   ],
   "source": [
    "while True:\n",
    "    try:\n",
    "        value = next(y)\n",
    "        print(value)\n",
    "    except StopIteration:\n",
    "        #print('Done')\n",
    "        break"
   ]
  },
  {
   "cell_type": "code",
   "execution_count": 16,
   "metadata": {},
   "outputs": [
    {
     "data": {
      "text/plain": [
       "297924218508143360336882819981631900915673130543819759032778173440536722190488904520034508163846345539055096533885943242814978469042830417586260359446115245634668393210192357419233828310479227982326069668668250"
      ]
     },
     "execution_count": 16,
     "metadata": {},
     "output_type": "execute_result"
    }
   ],
   "source": [
    "sum(fib_iterator(1000))"
   ]
  },
  {
   "cell_type": "code",
   "execution_count": null,
   "metadata": {},
   "outputs": [],
   "source": []
  },
  {
   "cell_type": "code",
   "execution_count": null,
   "metadata": {},
   "outputs": [],
   "source": []
  },
  {
   "cell_type": "markdown",
   "metadata": {},
   "source": [
    "### Generadores"
   ]
  },
  {
   "cell_type": "markdown",
   "metadata": {},
   "source": [
    "Hay una buena cantidad de código repetitivo en la definición basada en la clase anterior de un iterable.\n",
    "\n",
    "Python proporciona otra forma de especificar algo que cumple con el protocolo `iterator`: generadores."
   ]
  },
  {
   "cell_type": "code",
   "execution_count": 47,
   "metadata": {},
   "outputs": [],
   "source": [
    "def mi_generador():\n",
    "    yield 5\n",
    "    yield 10"
   ]
  },
  {
   "cell_type": "code",
   "execution_count": 48,
   "metadata": {},
   "outputs": [
    {
     "data": {
      "text/plain": [
       "5"
      ]
     },
     "execution_count": 48,
     "metadata": {},
     "output_type": "execute_result"
    }
   ],
   "source": [
    "x = mi_generador()\n",
    "next(x)"
   ]
  },
  {
   "cell_type": "code",
   "execution_count": 49,
   "metadata": {},
   "outputs": [
    {
     "data": {
      "text/plain": [
       "10"
      ]
     },
     "execution_count": 49,
     "metadata": {},
     "output_type": "execute_result"
    }
   ],
   "source": [
    "next(x)"
   ]
  },
  {
   "cell_type": "code",
   "execution_count": 50,
   "metadata": {},
   "outputs": [
    {
     "ename": "StopIteration",
     "evalue": "",
     "output_type": "error",
     "traceback": [
      "\u001b[0;31m---------------------------------------------------------------------------\u001b[0m",
      "\u001b[0;31mStopIteration\u001b[0m                             Traceback (most recent call last)",
      "Cell \u001b[0;32mIn[50], line 1\u001b[0m\n\u001b[0;32m----> 1\u001b[0m \u001b[38;5;28;43mnext\u001b[39;49m\u001b[43m(\u001b[49m\u001b[43mx\u001b[49m\u001b[43m)\u001b[49m\n",
      "\u001b[0;31mStopIteration\u001b[0m: "
     ]
    }
   ],
   "source": [
    "next(x)"
   ]
  },
  {
   "cell_type": "code",
   "execution_count": 51,
   "metadata": {},
   "outputs": [
    {
     "name": "stdout",
     "output_type": "stream",
     "text": [
      "5\n",
      "10\n"
     ]
    }
   ],
   "source": [
    "for a in mi_generador():\n",
    "    print(a)"
   ]
  },
  {
   "cell_type": "code",
   "execution_count": 52,
   "metadata": {},
   "outputs": [
    {
     "data": {
      "text/plain": [
       "15"
      ]
     },
     "execution_count": 52,
     "metadata": {},
     "output_type": "execute_result"
    }
   ],
   "source": [
    "sum(mi_generador())"
   ]
  },
  {
   "cell_type": "markdown",
   "metadata": {},
   "source": [
    "Una función que tiene sentencias `yield` en lugar de una sentencia de `return` regresa temporalmente: se convierte automáticamente en algo que implementa `__next__`.\n",
    "\n",
    "Cada llamada de `next()` devuelve el control a la función donde la dejó.\n",
    "\n",
    "El control pasa de un lado a otro entre el generador y la persona que llama. Nuestro ejemplo de Fibonacci, por lo tanto, se convierte en una función más que en una clase."
   ]
  },
  {
   "cell_type": "code",
   "execution_count": 53,
   "metadata": {},
   "outputs": [],
   "source": [
    "def generador_fibs(limite, semilla1=1, semilla2=1):\n",
    "    actual = semilla1\n",
    "    previo = semilla2\n",
    "\n",
    "    while limite > 0:\n",
    "        limite -= 1\n",
    "        actual, previo = actual + previo, actual\n",
    "        yield actual"
   ]
  },
  {
   "cell_type": "code",
   "execution_count": 54,
   "metadata": {},
   "outputs": [
    {
     "data": {
      "text/plain": [
       "31"
      ]
     },
     "execution_count": 54,
     "metadata": {},
     "output_type": "execute_result"
    }
   ],
   "source": [
    "sum(generador_fibs(5))"
   ]
  },
  {
   "cell_type": "code",
   "execution_count": 55,
   "metadata": {},
   "outputs": [
    {
     "name": "stdout",
     "output_type": "stream",
     "text": [
      "2\n",
      "8\n",
      "34\n",
      "144\n"
     ]
    }
   ],
   "source": [
    "for a in generador_fibs(10):\n",
    "    if a % 2 == 0:\n",
    "        print(a)"
   ]
  },
  {
   "cell_type": "markdown",
   "metadata": {},
   "source": [
    "A veces es posible que necesitemos reunir todos los valores de un generador en una lista, como antes de pasarlos a una función que espera una lista:"
   ]
  },
  {
   "cell_type": "code",
   "execution_count": 56,
   "metadata": {},
   "outputs": [
    {
     "data": {
      "text/plain": [
       "[2, 3, 5, 8, 13, 21, 34, 55, 89, 144]"
      ]
     },
     "execution_count": 56,
     "metadata": {},
     "output_type": "execute_result"
    }
   ],
   "source": [
    "list(generador_fibs(10))"
   ]
  },
  {
   "cell_type": "code",
   "execution_count": 57,
   "metadata": {},
   "outputs": [
    {
     "data": {
      "text/plain": [
       "[<matplotlib.lines.Line2D at 0x124503750>]"
      ]
     },
     "execution_count": 57,
     "metadata": {},
     "output_type": "execute_result"
    },
    {
     "data": {
      "image/png": "[encoded data removed]",
      "text/plain": [
       "<Figure size 640x480 with 1 Axes>"
      ]
     },
     "metadata": {},
     "output_type": "display_data"
    }
   ],
   "source": [
    "%matplotlib inline\n",
    "import matplotlib.pyplot as plt\n",
    "\n",
    "plt.plot(list(generador_fibs(20)))"
   ]
  },
  {
   "cell_type": "markdown",
   "metadata": {},
   "source": [
    "### Clases"
   ]
  },
  {
   "cell_type": "markdown",
   "metadata": {},
   "source": [
    "Para definir una clase en la programación de Python, utilizamos la palabra clave `class`. Es como si usáramos `def` para definir una función en Python. Y como una función, una clase Python3 también puede tener una cadena de documentación."
   ]
  },
  {
   "cell_type": "code",
   "execution_count": 58,
   "metadata": {},
   "outputs": [],
   "source": [
    "class fruta:\n",
    "    '''Esta clase crea instancias de frutas'''\n",
    "    pass"
   ]
  },
  {
   "cell_type": "code",
   "execution_count": 59,
   "metadata": {},
   "outputs": [
    {
     "data": {
      "text/plain": [
       "__main__.fruta"
      ]
     },
     "execution_count": 59,
     "metadata": {},
     "output_type": "execute_result"
    }
   ],
   "source": [
    "fruta"
   ]
  },
  {
   "cell_type": "markdown",
   "metadata": {},
   "source": [
    "Una clase Python3 puede tener atributos y métodos para ejecutarse en esos datos."
   ]
  },
  {
   "cell_type": "code",
   "execution_count": 60,
   "metadata": {},
   "outputs": [],
   "source": [
    "class fruta:\n",
    "    '''Esta clase crea instancias de frutas'''\n",
    "    color = ''\n",
    "    def decir_hola(self):\n",
    "        print('Hola')"
   ]
  },
  {
   "cell_type": "code",
   "execution_count": 61,
   "metadata": {},
   "outputs": [
    {
     "data": {
      "text/plain": [
       "<__main__.fruta at 0x1245c5ed0>"
      ]
     },
     "execution_count": 61,
     "metadata": {},
     "output_type": "execute_result"
    }
   ],
   "source": [
    "naranja = fruta()\n",
    "naranja"
   ]
  },
  {
   "cell_type": "markdown",
   "metadata": {},
   "source": [
    "También puede crear un atributo sobre la marcha."
   ]
  },
  {
   "cell_type": "code",
   "execution_count": 62,
   "metadata": {},
   "outputs": [
    {
     "data": {
      "text/plain": [
       "'Redonda'"
      ]
     },
     "execution_count": 62,
     "metadata": {},
     "output_type": "execute_result"
    }
   ],
   "source": [
    "naranja.forma = 'Redonda'\n",
    "naranja.forma"
   ]
  },
  {
   "cell_type": "markdown",
   "metadata": {},
   "source": [
    "Acceso a miembros de una clase en Python"
   ]
  },
  {
   "cell_type": "code",
   "execution_count": 63,
   "metadata": {},
   "outputs": [
    {
     "data": {
      "text/plain": [
       "''"
      ]
     },
     "execution_count": 63,
     "metadata": {},
     "output_type": "execute_result"
    }
   ],
   "source": [
    "naranja.color"
   ]
  },
  {
   "cell_type": "markdown",
   "metadata": {},
   "source": [
    "Esto devuelve una cadena vacía porque eso es lo que especificamos en la definición de clase."
   ]
  },
  {
   "cell_type": "code",
   "execution_count": 64,
   "metadata": {},
   "outputs": [
    {
     "name": "stdout",
     "output_type": "stream",
     "text": [
      "Hola\n"
     ]
    }
   ],
   "source": [
    "naranja.decir_hola()"
   ]
  },
  {
   "cell_type": "markdown",
   "metadata": {},
   "source": [
    "Aquí, llamamos al método `decir_hola()` en naranja. Un método puede tomar argumentos, si se define de esa manera."
   ]
  },
  {
   "cell_type": "code",
   "execution_count": 65,
   "metadata": {},
   "outputs": [],
   "source": [
    "class fruta:\n",
    "    '''Esta clase crea instancias de frutas'''\n",
    "    color = ''\n",
    "    def decir_hola(self):\n",
    "        print('Hola')\n",
    "        \n",
    "    def tamaño(self, x):\n",
    "        print(f'Mi tamaño es {x}')"
   ]
  },
  {
   "cell_type": "code",
   "execution_count": 66,
   "metadata": {},
   "outputs": [
    {
     "name": "stdout",
     "output_type": "stream",
     "text": [
      "Mi tamaño es 7\n"
     ]
    }
   ],
   "source": [
    "naranja = fruta()\n",
    "naranja.tamaño(7)"
   ]
  },
  {
   "cell_type": "markdown",
   "metadata": {},
   "source": [
    "Una clase de Python también puede tener algunos atributos especiales, como `__doc__` para la cadena de documentación."
   ]
  },
  {
   "cell_type": "code",
   "execution_count": 67,
   "metadata": {},
   "outputs": [
    {
     "data": {
      "text/plain": [
       "'Esta clase crea instancias de frutas'"
      ]
     },
     "execution_count": 67,
     "metadata": {},
     "output_type": "execute_result"
    }
   ],
   "source": [
    "fruta.__doc__"
   ]
  },
  {
   "cell_type": "markdown",
   "metadata": {},
   "source": [
    "Constructor se define con el metodo `__init__()`"
   ]
  },
  {
   "cell_type": "code",
   "execution_count": 68,
   "metadata": {},
   "outputs": [],
   "source": [
    "class fruta:\n",
    "    '''Esta clase crea instancias de frutas'''\n",
    "    def __init__(self, color, tamaño):\n",
    "        self.color = color\n",
    "        self.tamaño = tamaño\n",
    "        \n",
    "    def saludo(self):\n",
    "        print(f'Mi color es {self.color} y mi tamaño es {self.tamaño}')"
   ]
  },
  {
   "cell_type": "code",
   "execution_count": null,
   "metadata": {},
   "outputs": [],
   "source": [
    "naranja = fruta('anaranjado', 7)\n",
    "naranja.saludo()"
   ]
  },
  {
   "cell_type": "markdown",
   "metadata": {},
   "source": [
    "Atributos de la clase"
   ]
  },
  {
   "cell_type": "code",
   "execution_count": 69,
   "metadata": {},
   "outputs": [],
   "source": [
    "class fruta:\n",
    "    '''Esta clase crea instancias de frutas'''\n",
    "    forma = 'Redonda'\n",
    "    def __init__(self, color, tamaño):\n",
    "        self.color = color\n",
    "        self.tamaño = tamaño\n",
    "        \n",
    "    def saludo(self):\n",
    "        print(f'Mi color es {self.color} y mi tamaño es {self.tamaño}')"
   ]
  },
  {
   "cell_type": "code",
   "execution_count": 70,
   "metadata": {},
   "outputs": [
    {
     "data": {
      "text/plain": [
       "'Redonda'"
      ]
     },
     "execution_count": 70,
     "metadata": {},
     "output_type": "execute_result"
    }
   ],
   "source": [
    "fruta.forma"
   ]
  },
  {
   "cell_type": "markdown",
   "metadata": {},
   "source": [
    "Otro ejemplo"
   ]
  },
  {
   "cell_type": "code",
   "execution_count": 71,
   "metadata": {},
   "outputs": [
    {
     "name": "stdout",
     "output_type": "stream",
     "text": [
      "Hola, Fred\n",
      "HOLA, FRED!\n"
     ]
    }
   ],
   "source": [
    "class Saludo:\n",
    "\n",
    "    # Constructor\n",
    "    def __init__(self, nombre):\n",
    "        self.nombre = nombre  # Crear una variable de instancia\n",
    "\n",
    "    # Método de instancia\n",
    "    def saludar(self, gritar=False):\n",
    "        if gritar:\n",
    "            print ('HOLA, %s!' % self.nombre.upper())\n",
    "        else:\n",
    "            print ('Hola, %s' % self.nombre)\n",
    "\n",
    "s = Saludo('Fred')  # Construct an instance of the Greeter class\n",
    "s.saludar()            # Call an instance method; prints \"Hello, Fred\"\n",
    "s.saludar(gritar=True)   # Call an instance method; prints \"HELLO, FRED!\""
   ]
  },
  {
   "cell_type": "markdown",
   "metadata": {},
   "source": [
    "## Ejercicio\n",
    "\n",
    "Desarrolle un programa en Phyton 3 que realice análisis de texto:\n",
    "\n",
    "- Solicita al usuario que ingrese un párrafo o un texto largo.\n",
    "- Analice el texto y muestre la cantidad de palabras, oraciones y párrafos presentes en él.\n",
    "- Deeterminar la palabra más frecuente.\n",
    "- Calcular el promedio de palabras por oración.\n",
    "- Calcular el promedio de palabras por párrafo.\n",
    "\n",
    "Enviar el ejercicio al correo: wladimir@ula.ve antes de la clase del lunes 26 de junio."
   ]
  },
  {
   "cell_type": "markdown",
   "metadata": {},
   "source": [
    "## __Referencias__\n",
    "\n",
    "* Tutorial de Python oficial actualizado y traducido al español http://docs.python.org.ar/tutorial/\n",
    "* Curso de introducción a Python para científicos e ingenieros de la Universidad de Alicante en Youtube https://www.youtube.com/playlist?list=PLoGFizEtm_6iheDXw2-8onKClyxgstBO1\n",
    "* Introducción a la programación con Python, Universitat Jaume I http://repositori.uji.es/xmlui/bitstream/10234/102653/1/s93.pdf"
   ]
  }
 ],
 "metadata": {
  "anaconda-cloud": {},
  "kernelspec": {
   "display_name": "Python 3 (ipykernel)",
   "language": "python",
   "name": "python3"
  },
  "language_info": {
   "codemirror_mode": {
    "name": "ipython",
    "version": 3
   },
   "file_extension": ".py",
   "mimetype": "text/x-python",
   "name": "python",
   "nbconvert_exporter": "python",
   "pygments_lexer": "ipython3",
   "version": "3.11.9"
  }
 },
 "nbformat": 4,
 "nbformat_minor": 4
}
